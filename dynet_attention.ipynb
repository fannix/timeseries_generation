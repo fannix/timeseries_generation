{
  "nbformat": 4,
  "nbformat_minor": 0,
  "metadata": {
    "colab": {
      "name": "dynet_attention.ipynb",
      "provenance": [],
      "authorship_tag": "ABX9TyNvtrDUe8+RAOEq7fRdyTi6",
      "include_colab_link": true
    },
    "kernelspec": {
      "name": "python3",
      "display_name": "Python 3"
    },
    "widgets": {
      "application/vnd.jupyter.widget-state+json": {
        "1f60b183bf704c3da43d5ed4cdf406dc": {
          "model_module": "@jupyter-widgets/controls",
          "model_name": "HBoxModel",
          "state": {
            "_view_name": "HBoxView",
            "_dom_classes": [],
            "_model_name": "HBoxModel",
            "_view_module": "@jupyter-widgets/controls",
            "_model_module_version": "1.5.0",
            "_view_count": null,
            "_view_module_version": "1.5.0",
            "box_style": "",
            "layout": "IPY_MODEL_e825e8bb26f440f287d233c8931a1357",
            "_model_module": "@jupyter-widgets/controls",
            "children": [
              "IPY_MODEL_073c99bd5cae4199b0b86d698cf7abcd",
              "IPY_MODEL_4078b092c7024ab4bb409759687b1287"
            ]
          }
        },
        "e825e8bb26f440f287d233c8931a1357": {
          "model_module": "@jupyter-widgets/base",
          "model_name": "LayoutModel",
          "state": {
            "_view_name": "LayoutView",
            "grid_template_rows": null,
            "right": null,
            "justify_content": null,
            "_view_module": "@jupyter-widgets/base",
            "overflow": null,
            "_model_module_version": "1.2.0",
            "_view_count": null,
            "flex_flow": null,
            "width": null,
            "min_width": null,
            "border": null,
            "align_items": null,
            "bottom": null,
            "_model_module": "@jupyter-widgets/base",
            "top": null,
            "grid_column": null,
            "overflow_y": null,
            "overflow_x": null,
            "grid_auto_flow": null,
            "grid_area": null,
            "grid_template_columns": null,
            "flex": null,
            "_model_name": "LayoutModel",
            "justify_items": null,
            "grid_row": null,
            "max_height": null,
            "align_content": null,
            "visibility": null,
            "align_self": null,
            "height": null,
            "min_height": null,
            "padding": null,
            "grid_auto_rows": null,
            "grid_gap": null,
            "max_width": null,
            "order": null,
            "_view_module_version": "1.2.0",
            "grid_template_areas": null,
            "object_position": null,
            "object_fit": null,
            "grid_auto_columns": null,
            "margin": null,
            "display": null,
            "left": null
          }
        },
        "073c99bd5cae4199b0b86d698cf7abcd": {
          "model_module": "@jupyter-widgets/controls",
          "model_name": "IntProgressModel",
          "state": {
            "_view_name": "ProgressView",
            "style": "IPY_MODEL_816db265d52442a6a2086cbff29d77ba",
            "_dom_classes": [],
            "description": "100%",
            "_model_name": "IntProgressModel",
            "bar_style": "success",
            "max": 15000,
            "_view_module": "@jupyter-widgets/controls",
            "_model_module_version": "1.5.0",
            "value": 15000,
            "_view_count": null,
            "_view_module_version": "1.5.0",
            "orientation": "horizontal",
            "min": 0,
            "description_tooltip": null,
            "_model_module": "@jupyter-widgets/controls",
            "layout": "IPY_MODEL_e1f54453c179424ab520b1d252b1ec03"
          }
        },
        "4078b092c7024ab4bb409759687b1287": {
          "model_module": "@jupyter-widgets/controls",
          "model_name": "HTMLModel",
          "state": {
            "_view_name": "HTMLView",
            "style": "IPY_MODEL_4c17b036d031473e82f3688be47fc53a",
            "_dom_classes": [],
            "description": "",
            "_model_name": "HTMLModel",
            "placeholder": "​",
            "_view_module": "@jupyter-widgets/controls",
            "_model_module_version": "1.5.0",
            "value": " 15000/15000 [00:57&lt;00:00, 260.15it/s]",
            "_view_count": null,
            "_view_module_version": "1.5.0",
            "description_tooltip": null,
            "_model_module": "@jupyter-widgets/controls",
            "layout": "IPY_MODEL_ddd05e7926684accb417e805316b0dcb"
          }
        },
        "816db265d52442a6a2086cbff29d77ba": {
          "model_module": "@jupyter-widgets/controls",
          "model_name": "ProgressStyleModel",
          "state": {
            "_view_name": "StyleView",
            "_model_name": "ProgressStyleModel",
            "description_width": "initial",
            "_view_module": "@jupyter-widgets/base",
            "_model_module_version": "1.5.0",
            "_view_count": null,
            "_view_module_version": "1.2.0",
            "bar_color": null,
            "_model_module": "@jupyter-widgets/controls"
          }
        },
        "e1f54453c179424ab520b1d252b1ec03": {
          "model_module": "@jupyter-widgets/base",
          "model_name": "LayoutModel",
          "state": {
            "_view_name": "LayoutView",
            "grid_template_rows": null,
            "right": null,
            "justify_content": null,
            "_view_module": "@jupyter-widgets/base",
            "overflow": null,
            "_model_module_version": "1.2.0",
            "_view_count": null,
            "flex_flow": null,
            "width": null,
            "min_width": null,
            "border": null,
            "align_items": null,
            "bottom": null,
            "_model_module": "@jupyter-widgets/base",
            "top": null,
            "grid_column": null,
            "overflow_y": null,
            "overflow_x": null,
            "grid_auto_flow": null,
            "grid_area": null,
            "grid_template_columns": null,
            "flex": null,
            "_model_name": "LayoutModel",
            "justify_items": null,
            "grid_row": null,
            "max_height": null,
            "align_content": null,
            "visibility": null,
            "align_self": null,
            "height": null,
            "min_height": null,
            "padding": null,
            "grid_auto_rows": null,
            "grid_gap": null,
            "max_width": null,
            "order": null,
            "_view_module_version": "1.2.0",
            "grid_template_areas": null,
            "object_position": null,
            "object_fit": null,
            "grid_auto_columns": null,
            "margin": null,
            "display": null,
            "left": null
          }
        },
        "4c17b036d031473e82f3688be47fc53a": {
          "model_module": "@jupyter-widgets/controls",
          "model_name": "DescriptionStyleModel",
          "state": {
            "_view_name": "StyleView",
            "_model_name": "DescriptionStyleModel",
            "description_width": "",
            "_view_module": "@jupyter-widgets/base",
            "_model_module_version": "1.5.0",
            "_view_count": null,
            "_view_module_version": "1.2.0",
            "_model_module": "@jupyter-widgets/controls"
          }
        },
        "ddd05e7926684accb417e805316b0dcb": {
          "model_module": "@jupyter-widgets/base",
          "model_name": "LayoutModel",
          "state": {
            "_view_name": "LayoutView",
            "grid_template_rows": null,
            "right": null,
            "justify_content": null,
            "_view_module": "@jupyter-widgets/base",
            "overflow": null,
            "_model_module_version": "1.2.0",
            "_view_count": null,
            "flex_flow": null,
            "width": null,
            "min_width": null,
            "border": null,
            "align_items": null,
            "bottom": null,
            "_model_module": "@jupyter-widgets/base",
            "top": null,
            "grid_column": null,
            "overflow_y": null,
            "overflow_x": null,
            "grid_auto_flow": null,
            "grid_area": null,
            "grid_template_columns": null,
            "flex": null,
            "_model_name": "LayoutModel",
            "justify_items": null,
            "grid_row": null,
            "max_height": null,
            "align_content": null,
            "visibility": null,
            "align_self": null,
            "height": null,
            "min_height": null,
            "padding": null,
            "grid_auto_rows": null,
            "grid_gap": null,
            "max_width": null,
            "order": null,
            "_view_module_version": "1.2.0",
            "grid_template_areas": null,
            "object_position": null,
            "object_fit": null,
            "grid_auto_columns": null,
            "margin": null,
            "display": null,
            "left": null
          }
        },
        "3bce6d47fccc4638ae63c3aa2e49962c": {
          "model_module": "@jupyter-widgets/controls",
          "model_name": "HBoxModel",
          "state": {
            "_view_name": "HBoxView",
            "_dom_classes": [],
            "_model_name": "HBoxModel",
            "_view_module": "@jupyter-widgets/controls",
            "_model_module_version": "1.5.0",
            "_view_count": null,
            "_view_module_version": "1.5.0",
            "box_style": "",
            "layout": "IPY_MODEL_72058195f4e5444b91f124cfd926ce4b",
            "_model_module": "@jupyter-widgets/controls",
            "children": [
              "IPY_MODEL_987609b3da684109b96a94f94a7f3778",
              "IPY_MODEL_c4c3ab9d6eb74a84b0a3872c5ef53720"
            ]
          }
        },
        "72058195f4e5444b91f124cfd926ce4b": {
          "model_module": "@jupyter-widgets/base",
          "model_name": "LayoutModel",
          "state": {
            "_view_name": "LayoutView",
            "grid_template_rows": null,
            "right": null,
            "justify_content": null,
            "_view_module": "@jupyter-widgets/base",
            "overflow": null,
            "_model_module_version": "1.2.0",
            "_view_count": null,
            "flex_flow": null,
            "width": null,
            "min_width": null,
            "border": null,
            "align_items": null,
            "bottom": null,
            "_model_module": "@jupyter-widgets/base",
            "top": null,
            "grid_column": null,
            "overflow_y": null,
            "overflow_x": null,
            "grid_auto_flow": null,
            "grid_area": null,
            "grid_template_columns": null,
            "flex": null,
            "_model_name": "LayoutModel",
            "justify_items": null,
            "grid_row": null,
            "max_height": null,
            "align_content": null,
            "visibility": null,
            "align_self": null,
            "height": null,
            "min_height": null,
            "padding": null,
            "grid_auto_rows": null,
            "grid_gap": null,
            "max_width": null,
            "order": null,
            "_view_module_version": "1.2.0",
            "grid_template_areas": null,
            "object_position": null,
            "object_fit": null,
            "grid_auto_columns": null,
            "margin": null,
            "display": null,
            "left": null
          }
        },
        "987609b3da684109b96a94f94a7f3778": {
          "model_module": "@jupyter-widgets/controls",
          "model_name": "IntProgressModel",
          "state": {
            "_view_name": "ProgressView",
            "style": "IPY_MODEL_5ded8dc1f16b4995be6f6a52b525b920",
            "_dom_classes": [],
            "description": "100%",
            "_model_name": "IntProgressModel",
            "bar_style": "success",
            "max": 15000,
            "_view_module": "@jupyter-widgets/controls",
            "_model_module_version": "1.5.0",
            "value": 15000,
            "_view_count": null,
            "_view_module_version": "1.5.0",
            "orientation": "horizontal",
            "min": 0,
            "description_tooltip": null,
            "_model_module": "@jupyter-widgets/controls",
            "layout": "IPY_MODEL_7ec880800aa043eea39675ff45dde572"
          }
        },
        "c4c3ab9d6eb74a84b0a3872c5ef53720": {
          "model_module": "@jupyter-widgets/controls",
          "model_name": "HTMLModel",
          "state": {
            "_view_name": "HTMLView",
            "style": "IPY_MODEL_7030ee095cc847a6bd45b23009c721af",
            "_dom_classes": [],
            "description": "",
            "_model_name": "HTMLModel",
            "placeholder": "​",
            "_view_module": "@jupyter-widgets/controls",
            "_model_module_version": "1.5.0",
            "value": " 15000/15000 [00:36&lt;00:00, 408.78it/s]",
            "_view_count": null,
            "_view_module_version": "1.5.0",
            "description_tooltip": null,
            "_model_module": "@jupyter-widgets/controls",
            "layout": "IPY_MODEL_af82171078034b97bb1e03638d121e38"
          }
        },
        "5ded8dc1f16b4995be6f6a52b525b920": {
          "model_module": "@jupyter-widgets/controls",
          "model_name": "ProgressStyleModel",
          "state": {
            "_view_name": "StyleView",
            "_model_name": "ProgressStyleModel",
            "description_width": "initial",
            "_view_module": "@jupyter-widgets/base",
            "_model_module_version": "1.5.0",
            "_view_count": null,
            "_view_module_version": "1.2.0",
            "bar_color": null,
            "_model_module": "@jupyter-widgets/controls"
          }
        },
        "7ec880800aa043eea39675ff45dde572": {
          "model_module": "@jupyter-widgets/base",
          "model_name": "LayoutModel",
          "state": {
            "_view_name": "LayoutView",
            "grid_template_rows": null,
            "right": null,
            "justify_content": null,
            "_view_module": "@jupyter-widgets/base",
            "overflow": null,
            "_model_module_version": "1.2.0",
            "_view_count": null,
            "flex_flow": null,
            "width": null,
            "min_width": null,
            "border": null,
            "align_items": null,
            "bottom": null,
            "_model_module": "@jupyter-widgets/base",
            "top": null,
            "grid_column": null,
            "overflow_y": null,
            "overflow_x": null,
            "grid_auto_flow": null,
            "grid_area": null,
            "grid_template_columns": null,
            "flex": null,
            "_model_name": "LayoutModel",
            "justify_items": null,
            "grid_row": null,
            "max_height": null,
            "align_content": null,
            "visibility": null,
            "align_self": null,
            "height": null,
            "min_height": null,
            "padding": null,
            "grid_auto_rows": null,
            "grid_gap": null,
            "max_width": null,
            "order": null,
            "_view_module_version": "1.2.0",
            "grid_template_areas": null,
            "object_position": null,
            "object_fit": null,
            "grid_auto_columns": null,
            "margin": null,
            "display": null,
            "left": null
          }
        },
        "7030ee095cc847a6bd45b23009c721af": {
          "model_module": "@jupyter-widgets/controls",
          "model_name": "DescriptionStyleModel",
          "state": {
            "_view_name": "StyleView",
            "_model_name": "DescriptionStyleModel",
            "description_width": "",
            "_view_module": "@jupyter-widgets/base",
            "_model_module_version": "1.5.0",
            "_view_count": null,
            "_view_module_version": "1.2.0",
            "_model_module": "@jupyter-widgets/controls"
          }
        },
        "af82171078034b97bb1e03638d121e38": {
          "model_module": "@jupyter-widgets/base",
          "model_name": "LayoutModel",
          "state": {
            "_view_name": "LayoutView",
            "grid_template_rows": null,
            "right": null,
            "justify_content": null,
            "_view_module": "@jupyter-widgets/base",
            "overflow": null,
            "_model_module_version": "1.2.0",
            "_view_count": null,
            "flex_flow": null,
            "width": null,
            "min_width": null,
            "border": null,
            "align_items": null,
            "bottom": null,
            "_model_module": "@jupyter-widgets/base",
            "top": null,
            "grid_column": null,
            "overflow_y": null,
            "overflow_x": null,
            "grid_auto_flow": null,
            "grid_area": null,
            "grid_template_columns": null,
            "flex": null,
            "_model_name": "LayoutModel",
            "justify_items": null,
            "grid_row": null,
            "max_height": null,
            "align_content": null,
            "visibility": null,
            "align_self": null,
            "height": null,
            "min_height": null,
            "padding": null,
            "grid_auto_rows": null,
            "grid_gap": null,
            "max_width": null,
            "order": null,
            "_view_module_version": "1.2.0",
            "grid_template_areas": null,
            "object_position": null,
            "object_fit": null,
            "grid_auto_columns": null,
            "margin": null,
            "display": null,
            "left": null
          }
        },
        "e474f2c12f464a1aad28382c7a3e1fbe": {
          "model_module": "@jupyter-widgets/controls",
          "model_name": "HBoxModel",
          "state": {
            "_view_name": "HBoxView",
            "_dom_classes": [],
            "_model_name": "HBoxModel",
            "_view_module": "@jupyter-widgets/controls",
            "_model_module_version": "1.5.0",
            "_view_count": null,
            "_view_module_version": "1.5.0",
            "box_style": "",
            "layout": "IPY_MODEL_310d31a79e524e5d8d0859c61a6c16ac",
            "_model_module": "@jupyter-widgets/controls",
            "children": [
              "IPY_MODEL_9299d32c7d064f44a58f2768350ae3de",
              "IPY_MODEL_ce4edb16c22e4e9f8318f63223f91eb4"
            ]
          }
        },
        "310d31a79e524e5d8d0859c61a6c16ac": {
          "model_module": "@jupyter-widgets/base",
          "model_name": "LayoutModel",
          "state": {
            "_view_name": "LayoutView",
            "grid_template_rows": null,
            "right": null,
            "justify_content": null,
            "_view_module": "@jupyter-widgets/base",
            "overflow": null,
            "_model_module_version": "1.2.0",
            "_view_count": null,
            "flex_flow": null,
            "width": null,
            "min_width": null,
            "border": null,
            "align_items": null,
            "bottom": null,
            "_model_module": "@jupyter-widgets/base",
            "top": null,
            "grid_column": null,
            "overflow_y": null,
            "overflow_x": null,
            "grid_auto_flow": null,
            "grid_area": null,
            "grid_template_columns": null,
            "flex": null,
            "_model_name": "LayoutModel",
            "justify_items": null,
            "grid_row": null,
            "max_height": null,
            "align_content": null,
            "visibility": null,
            "align_self": null,
            "height": null,
            "min_height": null,
            "padding": null,
            "grid_auto_rows": null,
            "grid_gap": null,
            "max_width": null,
            "order": null,
            "_view_module_version": "1.2.0",
            "grid_template_areas": null,
            "object_position": null,
            "object_fit": null,
            "grid_auto_columns": null,
            "margin": null,
            "display": null,
            "left": null
          }
        },
        "9299d32c7d064f44a58f2768350ae3de": {
          "model_module": "@jupyter-widgets/controls",
          "model_name": "IntProgressModel",
          "state": {
            "_view_name": "ProgressView",
            "style": "IPY_MODEL_71f3378cfa94478792ea8717316b23e0",
            "_dom_classes": [],
            "description": "100%",
            "_model_name": "IntProgressModel",
            "bar_style": "success",
            "max": 60000,
            "_view_module": "@jupyter-widgets/controls",
            "_model_module_version": "1.5.0",
            "value": 60000,
            "_view_count": null,
            "_view_module_version": "1.5.0",
            "orientation": "horizontal",
            "min": 0,
            "description_tooltip": null,
            "_model_module": "@jupyter-widgets/controls",
            "layout": "IPY_MODEL_e11c5974a8a54b29b80164dace661130"
          }
        },
        "ce4edb16c22e4e9f8318f63223f91eb4": {
          "model_module": "@jupyter-widgets/controls",
          "model_name": "HTMLModel",
          "state": {
            "_view_name": "HTMLView",
            "style": "IPY_MODEL_fdc8a0787b874083b6d66739c579ad4f",
            "_dom_classes": [],
            "description": "",
            "_model_name": "HTMLModel",
            "placeholder": "​",
            "_view_module": "@jupyter-widgets/controls",
            "_model_module_version": "1.5.0",
            "value": " 60000/60000 [01:08&lt;00:00, 875.58it/s]",
            "_view_count": null,
            "_view_module_version": "1.5.0",
            "description_tooltip": null,
            "_model_module": "@jupyter-widgets/controls",
            "layout": "IPY_MODEL_6cd544f4e9ee4cdb82c5990728c27b67"
          }
        },
        "71f3378cfa94478792ea8717316b23e0": {
          "model_module": "@jupyter-widgets/controls",
          "model_name": "ProgressStyleModel",
          "state": {
            "_view_name": "StyleView",
            "_model_name": "ProgressStyleModel",
            "description_width": "initial",
            "_view_module": "@jupyter-widgets/base",
            "_model_module_version": "1.5.0",
            "_view_count": null,
            "_view_module_version": "1.2.0",
            "bar_color": null,
            "_model_module": "@jupyter-widgets/controls"
          }
        },
        "e11c5974a8a54b29b80164dace661130": {
          "model_module": "@jupyter-widgets/base",
          "model_name": "LayoutModel",
          "state": {
            "_view_name": "LayoutView",
            "grid_template_rows": null,
            "right": null,
            "justify_content": null,
            "_view_module": "@jupyter-widgets/base",
            "overflow": null,
            "_model_module_version": "1.2.0",
            "_view_count": null,
            "flex_flow": null,
            "width": null,
            "min_width": null,
            "border": null,
            "align_items": null,
            "bottom": null,
            "_model_module": "@jupyter-widgets/base",
            "top": null,
            "grid_column": null,
            "overflow_y": null,
            "overflow_x": null,
            "grid_auto_flow": null,
            "grid_area": null,
            "grid_template_columns": null,
            "flex": null,
            "_model_name": "LayoutModel",
            "justify_items": null,
            "grid_row": null,
            "max_height": null,
            "align_content": null,
            "visibility": null,
            "align_self": null,
            "height": null,
            "min_height": null,
            "padding": null,
            "grid_auto_rows": null,
            "grid_gap": null,
            "max_width": null,
            "order": null,
            "_view_module_version": "1.2.0",
            "grid_template_areas": null,
            "object_position": null,
            "object_fit": null,
            "grid_auto_columns": null,
            "margin": null,
            "display": null,
            "left": null
          }
        },
        "fdc8a0787b874083b6d66739c579ad4f": {
          "model_module": "@jupyter-widgets/controls",
          "model_name": "DescriptionStyleModel",
          "state": {
            "_view_name": "StyleView",
            "_model_name": "DescriptionStyleModel",
            "description_width": "",
            "_view_module": "@jupyter-widgets/base",
            "_model_module_version": "1.5.0",
            "_view_count": null,
            "_view_module_version": "1.2.0",
            "_model_module": "@jupyter-widgets/controls"
          }
        },
        "6cd544f4e9ee4cdb82c5990728c27b67": {
          "model_module": "@jupyter-widgets/base",
          "model_name": "LayoutModel",
          "state": {
            "_view_name": "LayoutView",
            "grid_template_rows": null,
            "right": null,
            "justify_content": null,
            "_view_module": "@jupyter-widgets/base",
            "overflow": null,
            "_model_module_version": "1.2.0",
            "_view_count": null,
            "flex_flow": null,
            "width": null,
            "min_width": null,
            "border": null,
            "align_items": null,
            "bottom": null,
            "_model_module": "@jupyter-widgets/base",
            "top": null,
            "grid_column": null,
            "overflow_y": null,
            "overflow_x": null,
            "grid_auto_flow": null,
            "grid_area": null,
            "grid_template_columns": null,
            "flex": null,
            "_model_name": "LayoutModel",
            "justify_items": null,
            "grid_row": null,
            "max_height": null,
            "align_content": null,
            "visibility": null,
            "align_self": null,
            "height": null,
            "min_height": null,
            "padding": null,
            "grid_auto_rows": null,
            "grid_gap": null,
            "max_width": null,
            "order": null,
            "_view_module_version": "1.2.0",
            "grid_template_areas": null,
            "object_position": null,
            "object_fit": null,
            "grid_auto_columns": null,
            "margin": null,
            "display": null,
            "left": null
          }
        },
        "64f9de9c75ae43289bf65b03feae4bab": {
          "model_module": "@jupyter-widgets/controls",
          "model_name": "HBoxModel",
          "state": {
            "_view_name": "HBoxView",
            "_dom_classes": [],
            "_model_name": "HBoxModel",
            "_view_module": "@jupyter-widgets/controls",
            "_model_module_version": "1.5.0",
            "_view_count": null,
            "_view_module_version": "1.5.0",
            "box_style": "",
            "layout": "IPY_MODEL_b2cadbd231f5426eb35171588bd1af02",
            "_model_module": "@jupyter-widgets/controls",
            "children": [
              "IPY_MODEL_3f56d5bab1aa48dfa45b1ea978e7cbca",
              "IPY_MODEL_7e6ae536f05f4be38b36d54c4b6aaf77"
            ]
          }
        },
        "b2cadbd231f5426eb35171588bd1af02": {
          "model_module": "@jupyter-widgets/base",
          "model_name": "LayoutModel",
          "state": {
            "_view_name": "LayoutView",
            "grid_template_rows": null,
            "right": null,
            "justify_content": null,
            "_view_module": "@jupyter-widgets/base",
            "overflow": null,
            "_model_module_version": "1.2.0",
            "_view_count": null,
            "flex_flow": null,
            "width": null,
            "min_width": null,
            "border": null,
            "align_items": null,
            "bottom": null,
            "_model_module": "@jupyter-widgets/base",
            "top": null,
            "grid_column": null,
            "overflow_y": null,
            "overflow_x": null,
            "grid_auto_flow": null,
            "grid_area": null,
            "grid_template_columns": null,
            "flex": null,
            "_model_name": "LayoutModel",
            "justify_items": null,
            "grid_row": null,
            "max_height": null,
            "align_content": null,
            "visibility": null,
            "align_self": null,
            "height": null,
            "min_height": null,
            "padding": null,
            "grid_auto_rows": null,
            "grid_gap": null,
            "max_width": null,
            "order": null,
            "_view_module_version": "1.2.0",
            "grid_template_areas": null,
            "object_position": null,
            "object_fit": null,
            "grid_auto_columns": null,
            "margin": null,
            "display": null,
            "left": null
          }
        },
        "3f56d5bab1aa48dfa45b1ea978e7cbca": {
          "model_module": "@jupyter-widgets/controls",
          "model_name": "IntProgressModel",
          "state": {
            "_view_name": "ProgressView",
            "style": "IPY_MODEL_8fc7e31deeda4fb484885857894c49df",
            "_dom_classes": [],
            "description": "100%",
            "_model_name": "IntProgressModel",
            "bar_style": "success",
            "max": 60000,
            "_view_module": "@jupyter-widgets/controls",
            "_model_module_version": "1.5.0",
            "value": 60000,
            "_view_count": null,
            "_view_module_version": "1.5.0",
            "orientation": "horizontal",
            "min": 0,
            "description_tooltip": null,
            "_model_module": "@jupyter-widgets/controls",
            "layout": "IPY_MODEL_e67032cf845741c1a10d4d7b58a605fe"
          }
        },
        "7e6ae536f05f4be38b36d54c4b6aaf77": {
          "model_module": "@jupyter-widgets/controls",
          "model_name": "HTMLModel",
          "state": {
            "_view_name": "HTMLView",
            "style": "IPY_MODEL_23282a021c7c413387d0cd2f7ff62562",
            "_dom_classes": [],
            "description": "",
            "_model_name": "HTMLModel",
            "placeholder": "​",
            "_view_module": "@jupyter-widgets/controls",
            "_model_module_version": "1.5.0",
            "value": " 60000/60000 [01:17&lt;00:00, 778.09it/s]",
            "_view_count": null,
            "_view_module_version": "1.5.0",
            "description_tooltip": null,
            "_model_module": "@jupyter-widgets/controls",
            "layout": "IPY_MODEL_d23ddaaec89245068e2bc1e7e2e21763"
          }
        },
        "8fc7e31deeda4fb484885857894c49df": {
          "model_module": "@jupyter-widgets/controls",
          "model_name": "ProgressStyleModel",
          "state": {
            "_view_name": "StyleView",
            "_model_name": "ProgressStyleModel",
            "description_width": "initial",
            "_view_module": "@jupyter-widgets/base",
            "_model_module_version": "1.5.0",
            "_view_count": null,
            "_view_module_version": "1.2.0",
            "bar_color": null,
            "_model_module": "@jupyter-widgets/controls"
          }
        },
        "e67032cf845741c1a10d4d7b58a605fe": {
          "model_module": "@jupyter-widgets/base",
          "model_name": "LayoutModel",
          "state": {
            "_view_name": "LayoutView",
            "grid_template_rows": null,
            "right": null,
            "justify_content": null,
            "_view_module": "@jupyter-widgets/base",
            "overflow": null,
            "_model_module_version": "1.2.0",
            "_view_count": null,
            "flex_flow": null,
            "width": null,
            "min_width": null,
            "border": null,
            "align_items": null,
            "bottom": null,
            "_model_module": "@jupyter-widgets/base",
            "top": null,
            "grid_column": null,
            "overflow_y": null,
            "overflow_x": null,
            "grid_auto_flow": null,
            "grid_area": null,
            "grid_template_columns": null,
            "flex": null,
            "_model_name": "LayoutModel",
            "justify_items": null,
            "grid_row": null,
            "max_height": null,
            "align_content": null,
            "visibility": null,
            "align_self": null,
            "height": null,
            "min_height": null,
            "padding": null,
            "grid_auto_rows": null,
            "grid_gap": null,
            "max_width": null,
            "order": null,
            "_view_module_version": "1.2.0",
            "grid_template_areas": null,
            "object_position": null,
            "object_fit": null,
            "grid_auto_columns": null,
            "margin": null,
            "display": null,
            "left": null
          }
        },
        "23282a021c7c413387d0cd2f7ff62562": {
          "model_module": "@jupyter-widgets/controls",
          "model_name": "DescriptionStyleModel",
          "state": {
            "_view_name": "StyleView",
            "_model_name": "DescriptionStyleModel",
            "description_width": "",
            "_view_module": "@jupyter-widgets/base",
            "_model_module_version": "1.5.0",
            "_view_count": null,
            "_view_module_version": "1.2.0",
            "_model_module": "@jupyter-widgets/controls"
          }
        },
        "d23ddaaec89245068e2bc1e7e2e21763": {
          "model_module": "@jupyter-widgets/base",
          "model_name": "LayoutModel",
          "state": {
            "_view_name": "LayoutView",
            "grid_template_rows": null,
            "right": null,
            "justify_content": null,
            "_view_module": "@jupyter-widgets/base",
            "overflow": null,
            "_model_module_version": "1.2.0",
            "_view_count": null,
            "flex_flow": null,
            "width": null,
            "min_width": null,
            "border": null,
            "align_items": null,
            "bottom": null,
            "_model_module": "@jupyter-widgets/base",
            "top": null,
            "grid_column": null,
            "overflow_y": null,
            "overflow_x": null,
            "grid_auto_flow": null,
            "grid_area": null,
            "grid_template_columns": null,
            "flex": null,
            "_model_name": "LayoutModel",
            "justify_items": null,
            "grid_row": null,
            "max_height": null,
            "align_content": null,
            "visibility": null,
            "align_self": null,
            "height": null,
            "min_height": null,
            "padding": null,
            "grid_auto_rows": null,
            "grid_gap": null,
            "max_width": null,
            "order": null,
            "_view_module_version": "1.2.0",
            "grid_template_areas": null,
            "object_position": null,
            "object_fit": null,
            "grid_auto_columns": null,
            "margin": null,
            "display": null,
            "left": null
          }
        },
        "360a3f17b75d4fbda6897e8120c704d0": {
          "model_module": "@jupyter-widgets/controls",
          "model_name": "HBoxModel",
          "state": {
            "_view_name": "HBoxView",
            "_dom_classes": [],
            "_model_name": "HBoxModel",
            "_view_module": "@jupyter-widgets/controls",
            "_model_module_version": "1.5.0",
            "_view_count": null,
            "_view_module_version": "1.5.0",
            "box_style": "",
            "layout": "IPY_MODEL_86a40d13770f4286bf9c43c7a616a9e6",
            "_model_module": "@jupyter-widgets/controls",
            "children": [
              "IPY_MODEL_5e09762a24094d489538d06653803603",
              "IPY_MODEL_6a19b7ab6b684888b299ca9fa43528fa"
            ]
          }
        },
        "86a40d13770f4286bf9c43c7a616a9e6": {
          "model_module": "@jupyter-widgets/base",
          "model_name": "LayoutModel",
          "state": {
            "_view_name": "LayoutView",
            "grid_template_rows": null,
            "right": null,
            "justify_content": null,
            "_view_module": "@jupyter-widgets/base",
            "overflow": null,
            "_model_module_version": "1.2.0",
            "_view_count": null,
            "flex_flow": null,
            "width": null,
            "min_width": null,
            "border": null,
            "align_items": null,
            "bottom": null,
            "_model_module": "@jupyter-widgets/base",
            "top": null,
            "grid_column": null,
            "overflow_y": null,
            "overflow_x": null,
            "grid_auto_flow": null,
            "grid_area": null,
            "grid_template_columns": null,
            "flex": null,
            "_model_name": "LayoutModel",
            "justify_items": null,
            "grid_row": null,
            "max_height": null,
            "align_content": null,
            "visibility": null,
            "align_self": null,
            "height": null,
            "min_height": null,
            "padding": null,
            "grid_auto_rows": null,
            "grid_gap": null,
            "max_width": null,
            "order": null,
            "_view_module_version": "1.2.0",
            "grid_template_areas": null,
            "object_position": null,
            "object_fit": null,
            "grid_auto_columns": null,
            "margin": null,
            "display": null,
            "left": null
          }
        },
        "5e09762a24094d489538d06653803603": {
          "model_module": "@jupyter-widgets/controls",
          "model_name": "IntProgressModel",
          "state": {
            "_view_name": "ProgressView",
            "style": "IPY_MODEL_ea7b0a9da0934e02881962c72f7d7e08",
            "_dom_classes": [],
            "description": "100%",
            "_model_name": "IntProgressModel",
            "bar_style": "success",
            "max": 60000,
            "_view_module": "@jupyter-widgets/controls",
            "_model_module_version": "1.5.0",
            "value": 60000,
            "_view_count": null,
            "_view_module_version": "1.5.0",
            "orientation": "horizontal",
            "min": 0,
            "description_tooltip": null,
            "_model_module": "@jupyter-widgets/controls",
            "layout": "IPY_MODEL_0526754125ed49a6ae119d8ff6f30365"
          }
        },
        "6a19b7ab6b684888b299ca9fa43528fa": {
          "model_module": "@jupyter-widgets/controls",
          "model_name": "HTMLModel",
          "state": {
            "_view_name": "HTMLView",
            "style": "IPY_MODEL_48b8435297a940f98a6ad20b13ae6040",
            "_dom_classes": [],
            "description": "",
            "_model_name": "HTMLModel",
            "placeholder": "​",
            "_view_module": "@jupyter-widgets/controls",
            "_model_module_version": "1.5.0",
            "value": " 60000/60000 [01:19&lt;00:00, 754.19it/s]",
            "_view_count": null,
            "_view_module_version": "1.5.0",
            "description_tooltip": null,
            "_model_module": "@jupyter-widgets/controls",
            "layout": "IPY_MODEL_0fc495532ae84f47969e08a7b2cdfafe"
          }
        },
        "ea7b0a9da0934e02881962c72f7d7e08": {
          "model_module": "@jupyter-widgets/controls",
          "model_name": "ProgressStyleModel",
          "state": {
            "_view_name": "StyleView",
            "_model_name": "ProgressStyleModel",
            "description_width": "initial",
            "_view_module": "@jupyter-widgets/base",
            "_model_module_version": "1.5.0",
            "_view_count": null,
            "_view_module_version": "1.2.0",
            "bar_color": null,
            "_model_module": "@jupyter-widgets/controls"
          }
        },
        "0526754125ed49a6ae119d8ff6f30365": {
          "model_module": "@jupyter-widgets/base",
          "model_name": "LayoutModel",
          "state": {
            "_view_name": "LayoutView",
            "grid_template_rows": null,
            "right": null,
            "justify_content": null,
            "_view_module": "@jupyter-widgets/base",
            "overflow": null,
            "_model_module_version": "1.2.0",
            "_view_count": null,
            "flex_flow": null,
            "width": null,
            "min_width": null,
            "border": null,
            "align_items": null,
            "bottom": null,
            "_model_module": "@jupyter-widgets/base",
            "top": null,
            "grid_column": null,
            "overflow_y": null,
            "overflow_x": null,
            "grid_auto_flow": null,
            "grid_area": null,
            "grid_template_columns": null,
            "flex": null,
            "_model_name": "LayoutModel",
            "justify_items": null,
            "grid_row": null,
            "max_height": null,
            "align_content": null,
            "visibility": null,
            "align_self": null,
            "height": null,
            "min_height": null,
            "padding": null,
            "grid_auto_rows": null,
            "grid_gap": null,
            "max_width": null,
            "order": null,
            "_view_module_version": "1.2.0",
            "grid_template_areas": null,
            "object_position": null,
            "object_fit": null,
            "grid_auto_columns": null,
            "margin": null,
            "display": null,
            "left": null
          }
        },
        "48b8435297a940f98a6ad20b13ae6040": {
          "model_module": "@jupyter-widgets/controls",
          "model_name": "DescriptionStyleModel",
          "state": {
            "_view_name": "StyleView",
            "_model_name": "DescriptionStyleModel",
            "description_width": "",
            "_view_module": "@jupyter-widgets/base",
            "_model_module_version": "1.5.0",
            "_view_count": null,
            "_view_module_version": "1.2.0",
            "_model_module": "@jupyter-widgets/controls"
          }
        },
        "0fc495532ae84f47969e08a7b2cdfafe": {
          "model_module": "@jupyter-widgets/base",
          "model_name": "LayoutModel",
          "state": {
            "_view_name": "LayoutView",
            "grid_template_rows": null,
            "right": null,
            "justify_content": null,
            "_view_module": "@jupyter-widgets/base",
            "overflow": null,
            "_model_module_version": "1.2.0",
            "_view_count": null,
            "flex_flow": null,
            "width": null,
            "min_width": null,
            "border": null,
            "align_items": null,
            "bottom": null,
            "_model_module": "@jupyter-widgets/base",
            "top": null,
            "grid_column": null,
            "overflow_y": null,
            "overflow_x": null,
            "grid_auto_flow": null,
            "grid_area": null,
            "grid_template_columns": null,
            "flex": null,
            "_model_name": "LayoutModel",
            "justify_items": null,
            "grid_row": null,
            "max_height": null,
            "align_content": null,
            "visibility": null,
            "align_self": null,
            "height": null,
            "min_height": null,
            "padding": null,
            "grid_auto_rows": null,
            "grid_gap": null,
            "max_width": null,
            "order": null,
            "_view_module_version": "1.2.0",
            "grid_template_areas": null,
            "object_position": null,
            "object_fit": null,
            "grid_auto_columns": null,
            "margin": null,
            "display": null,
            "left": null
          }
        },
        "3704d203bab246949c37d523940e1e33": {
          "model_module": "@jupyter-widgets/controls",
          "model_name": "HBoxModel",
          "state": {
            "_view_name": "HBoxView",
            "_dom_classes": [],
            "_model_name": "HBoxModel",
            "_view_module": "@jupyter-widgets/controls",
            "_model_module_version": "1.5.0",
            "_view_count": null,
            "_view_module_version": "1.5.0",
            "box_style": "",
            "layout": "IPY_MODEL_816ef0ba7c53434fb31ef76ab984920a",
            "_model_module": "@jupyter-widgets/controls",
            "children": [
              "IPY_MODEL_567e7435d2924ddeb325e725b5a632d6",
              "IPY_MODEL_b67b2f9dcedf4b349b7ebf3d0e0d3aa0"
            ]
          }
        },
        "816ef0ba7c53434fb31ef76ab984920a": {
          "model_module": "@jupyter-widgets/base",
          "model_name": "LayoutModel",
          "state": {
            "_view_name": "LayoutView",
            "grid_template_rows": null,
            "right": null,
            "justify_content": null,
            "_view_module": "@jupyter-widgets/base",
            "overflow": null,
            "_model_module_version": "1.2.0",
            "_view_count": null,
            "flex_flow": null,
            "width": null,
            "min_width": null,
            "border": null,
            "align_items": null,
            "bottom": null,
            "_model_module": "@jupyter-widgets/base",
            "top": null,
            "grid_column": null,
            "overflow_y": null,
            "overflow_x": null,
            "grid_auto_flow": null,
            "grid_area": null,
            "grid_template_columns": null,
            "flex": null,
            "_model_name": "LayoutModel",
            "justify_items": null,
            "grid_row": null,
            "max_height": null,
            "align_content": null,
            "visibility": null,
            "align_self": null,
            "height": null,
            "min_height": null,
            "padding": null,
            "grid_auto_rows": null,
            "grid_gap": null,
            "max_width": null,
            "order": null,
            "_view_module_version": "1.2.0",
            "grid_template_areas": null,
            "object_position": null,
            "object_fit": null,
            "grid_auto_columns": null,
            "margin": null,
            "display": null,
            "left": null
          }
        },
        "567e7435d2924ddeb325e725b5a632d6": {
          "model_module": "@jupyter-widgets/controls",
          "model_name": "IntProgressModel",
          "state": {
            "_view_name": "ProgressView",
            "style": "IPY_MODEL_72afde9eb1644c50be1dbc46b6bbdaad",
            "_dom_classes": [],
            "description": "100%",
            "_model_name": "IntProgressModel",
            "bar_style": "success",
            "max": 60000,
            "_view_module": "@jupyter-widgets/controls",
            "_model_module_version": "1.5.0",
            "value": 60000,
            "_view_count": null,
            "_view_module_version": "1.5.0",
            "orientation": "horizontal",
            "min": 0,
            "description_tooltip": null,
            "_model_module": "@jupyter-widgets/controls",
            "layout": "IPY_MODEL_f677b22db1ce4e479880d1e0bb31858a"
          }
        },
        "b67b2f9dcedf4b349b7ebf3d0e0d3aa0": {
          "model_module": "@jupyter-widgets/controls",
          "model_name": "HTMLModel",
          "state": {
            "_view_name": "HTMLView",
            "style": "IPY_MODEL_2170f54490c943aba8871e89c5d111b5",
            "_dom_classes": [],
            "description": "",
            "_model_name": "HTMLModel",
            "placeholder": "​",
            "_view_module": "@jupyter-widgets/controls",
            "_model_module_version": "1.5.0",
            "value": " 60000/60000 [02:41&lt;00:00, 370.62it/s]",
            "_view_count": null,
            "_view_module_version": "1.5.0",
            "description_tooltip": null,
            "_model_module": "@jupyter-widgets/controls",
            "layout": "IPY_MODEL_5c663c023ece457cac6cee0da05ea53c"
          }
        },
        "72afde9eb1644c50be1dbc46b6bbdaad": {
          "model_module": "@jupyter-widgets/controls",
          "model_name": "ProgressStyleModel",
          "state": {
            "_view_name": "StyleView",
            "_model_name": "ProgressStyleModel",
            "description_width": "initial",
            "_view_module": "@jupyter-widgets/base",
            "_model_module_version": "1.5.0",
            "_view_count": null,
            "_view_module_version": "1.2.0",
            "bar_color": null,
            "_model_module": "@jupyter-widgets/controls"
          }
        },
        "f677b22db1ce4e479880d1e0bb31858a": {
          "model_module": "@jupyter-widgets/base",
          "model_name": "LayoutModel",
          "state": {
            "_view_name": "LayoutView",
            "grid_template_rows": null,
            "right": null,
            "justify_content": null,
            "_view_module": "@jupyter-widgets/base",
            "overflow": null,
            "_model_module_version": "1.2.0",
            "_view_count": null,
            "flex_flow": null,
            "width": null,
            "min_width": null,
            "border": null,
            "align_items": null,
            "bottom": null,
            "_model_module": "@jupyter-widgets/base",
            "top": null,
            "grid_column": null,
            "overflow_y": null,
            "overflow_x": null,
            "grid_auto_flow": null,
            "grid_area": null,
            "grid_template_columns": null,
            "flex": null,
            "_model_name": "LayoutModel",
            "justify_items": null,
            "grid_row": null,
            "max_height": null,
            "align_content": null,
            "visibility": null,
            "align_self": null,
            "height": null,
            "min_height": null,
            "padding": null,
            "grid_auto_rows": null,
            "grid_gap": null,
            "max_width": null,
            "order": null,
            "_view_module_version": "1.2.0",
            "grid_template_areas": null,
            "object_position": null,
            "object_fit": null,
            "grid_auto_columns": null,
            "margin": null,
            "display": null,
            "left": null
          }
        },
        "2170f54490c943aba8871e89c5d111b5": {
          "model_module": "@jupyter-widgets/controls",
          "model_name": "DescriptionStyleModel",
          "state": {
            "_view_name": "StyleView",
            "_model_name": "DescriptionStyleModel",
            "description_width": "",
            "_view_module": "@jupyter-widgets/base",
            "_model_module_version": "1.5.0",
            "_view_count": null,
            "_view_module_version": "1.2.0",
            "_model_module": "@jupyter-widgets/controls"
          }
        },
        "5c663c023ece457cac6cee0da05ea53c": {
          "model_module": "@jupyter-widgets/base",
          "model_name": "LayoutModel",
          "state": {
            "_view_name": "LayoutView",
            "grid_template_rows": null,
            "right": null,
            "justify_content": null,
            "_view_module": "@jupyter-widgets/base",
            "overflow": null,
            "_model_module_version": "1.2.0",
            "_view_count": null,
            "flex_flow": null,
            "width": null,
            "min_width": null,
            "border": null,
            "align_items": null,
            "bottom": null,
            "_model_module": "@jupyter-widgets/base",
            "top": null,
            "grid_column": null,
            "overflow_y": null,
            "overflow_x": null,
            "grid_auto_flow": null,
            "grid_area": null,
            "grid_template_columns": null,
            "flex": null,
            "_model_name": "LayoutModel",
            "justify_items": null,
            "grid_row": null,
            "max_height": null,
            "align_content": null,
            "visibility": null,
            "align_self": null,
            "height": null,
            "min_height": null,
            "padding": null,
            "grid_auto_rows": null,
            "grid_gap": null,
            "max_width": null,
            "order": null,
            "_view_module_version": "1.2.0",
            "grid_template_areas": null,
            "object_position": null,
            "object_fit": null,
            "grid_auto_columns": null,
            "margin": null,
            "display": null,
            "left": null
          }
        }
      }
    }
  },
  "cells": [
    {
      "cell_type": "markdown",
      "metadata": {
        "id": "view-in-github",
        "colab_type": "text"
      },
      "source": [
        "<a href=\"https://colab.research.google.com/github/fannix/timeseries_generation/blob/master/dynet_attention.ipynb\" target=\"_parent\"><img src=\"https://colab.research.google.com/assets/colab-badge.svg\" alt=\"Open In Colab\"/></a>"
      ]
    },
    {
      "cell_type": "markdown",
      "metadata": {
        "id": "gsA8HVp8cVUl",
        "colab_type": "text"
      },
      "source": [
        "1. https://talbaumel.github.io/blog/attention/\n",
        "2. https://towardsdatascience.com/attention-seq2seq-with-pytorch-learning-to-invert-a-sequence-34faf4133e53\n",
        "\n",
        "\n",
        "\n"
      ]
    },
    {
      "cell_type": "code",
      "metadata": {
        "id": "QPCgm42TbwzD",
        "colab_type": "code",
        "colab": {}
      },
      "source": [
        "%matplotlib inline\n",
        "from random import choice, randrange\n",
        "\n",
        "EOS = \"<EOS>\" #all strings will end with the End Of String token\n",
        "characters = list(\"abcd\")\n",
        "characters.append(EOS)\n",
        "\n",
        "int2char = list(characters)\n",
        "char2int = {c:i for i,c in enumerate(characters)}\n",
        "\n",
        "VOCAB_SIZE = len(characters)\n",
        "\n",
        "def sample_model(min_length, max_lenth):\n",
        "    random_length = randrange(min_length, max_lenth)                             # Pick a random length\n",
        "    random_char_list = [choice(characters[:-1]) for _ in range(random_length)]  # Pick random chars\n",
        "    random_string = ''.join(random_char_list) \n",
        "    return random_string, random_string[::-1]  # Return the random string and its reverse"
      ],
      "execution_count": 0,
      "outputs": []
    },
    {
      "cell_type": "code",
      "metadata": {
        "id": "f8gwxr-Wb4Ho",
        "colab_type": "code",
        "colab": {
          "base_uri": "https://localhost:8080/",
          "height": 52
        },
        "outputId": "9de7ec19-b7f2-4e51-c69a-438faa3a3f95"
      },
      "source": [
        "print(sample_model(4, 5))\n",
        "print(sample_model(5, 10))\n",
        "\n"
      ],
      "execution_count": 2,
      "outputs": [
        {
          "output_type": "stream",
          "text": [
            "('cccc', 'cccc')\n",
            "('ddcccbcbc', 'cbcbcccdd')\n"
          ],
          "name": "stdout"
        }
      ]
    },
    {
      "cell_type": "code",
      "metadata": {
        "id": "s_1R_AWLcOhG",
        "colab_type": "code",
        "colab": {}
      },
      "source": [
        "MAX_STRING_LEN = 15\n",
        "\n",
        "train_set = [sample_model(1, MAX_STRING_LEN) for _ in range(3000)]\n",
        "val_set = [sample_model(1, MAX_STRING_LEN) for _ in range(50)]"
      ],
      "execution_count": 0,
      "outputs": []
    },
    {
      "cell_type": "code",
      "metadata": {
        "id": "saB8cq2bcg8y",
        "colab_type": "code",
        "colab": {
          "base_uri": "https://localhost:8080/",
          "height": 139
        },
        "outputId": "b082c754-d45b-46c1-a3f0-0103883ea768"
      },
      "source": [
        "!pip install dynet"
      ],
      "execution_count": 5,
      "outputs": [
        {
          "output_type": "stream",
          "text": [
            "Collecting dynet\n",
            "\u001b[?25l  Downloading https://files.pythonhosted.org/packages/88/f0/01a561a301a8ea9aea1c28f82e108c38cd103964c7a46286ab01757a4092/dyNET-2.1-cp36-cp36m-manylinux1_x86_64.whl (28.1MB)\n",
            "\u001b[K     |████████████████████████████████| 28.1MB 1.8MB/s \n",
            "\u001b[?25hRequirement already satisfied: numpy in /usr/local/lib/python3.6/dist-packages (from dynet) (1.18.2)\n",
            "Requirement already satisfied: cython in /usr/local/lib/python3.6/dist-packages (from dynet) (0.29.16)\n",
            "Installing collected packages: dynet\n",
            "Successfully installed dynet-2.1\n"
          ],
          "name": "stdout"
        }
      ]
    },
    {
      "cell_type": "code",
      "metadata": {
        "id": "mmvbt4r-cP-i",
        "colab_type": "code",
        "colab": {}
      },
      "source": [
        "\n",
        "import matplotlib.pyplot as plt\n",
        "import dynet as dy\n",
        "from tqdm import tqdm_notebook as tqdm\n",
        "def train(network, train_set, val_set, epochs = 20):\n",
        "    def get_val_set_loss(network, val_set):\n",
        "        loss = [network.get_loss(input_string, output_string).value() for input_string, output_string in val_set]\n",
        "        return sum(loss)\n",
        "    \n",
        "    train_set = train_set*epochs\n",
        "    trainer = dy.SimpleSGDTrainer(network.model)\n",
        "    losses = []\n",
        "    iterations = []\n",
        "    for i, training_example in enumerate(tqdm(train_set)):\n",
        "        input_string, output_string = training_example\n",
        "        \n",
        "        loss = network.get_loss(input_string, output_string)\n",
        "        loss_value = loss.value()\n",
        "        loss.backward()\n",
        "        trainer.update()\n",
        "\n",
        "        # Accumulate average losses over training to plot\n",
        "        if i%(len(train_set)/100) == 0:\n",
        "            val_loss = get_val_set_loss(network, val_set)\n",
        "            losses.append(val_loss)\n",
        "            iterations.append(i/((len(train_set)/100)))\n",
        "\n",
        "    plt.plot(iterations, losses)\n",
        "    plt.axis([0, 100, 0, len(val_set)*MAX_STRING_LEN])\n",
        "    plt.show() \n",
        "    print('loss on validation set:', val_loss)\n",
        "\n"
      ],
      "execution_count": 0,
      "outputs": []
    },
    {
      "cell_type": "code",
      "metadata": {
        "id": "YqaGoNLXcmmU",
        "colab_type": "code",
        "colab": {}
      },
      "source": [
        "RNN_BUILDER = dy.LSTMBuilder\n",
        "\n",
        "class SimpleRNNNetwork:\n",
        "    def __init__(self, rnn_num_of_layers, embeddings_size, state_size):\n",
        "        self.model = dy.Model()\n",
        "\n",
        "        # the embedding paramaters\n",
        "        self.embeddings = self.model.add_lookup_parameters((VOCAB_SIZE, embeddings_size))\n",
        "\n",
        "        # the rnn\n",
        "        self.RNN = RNN_BUILDER(rnn_num_of_layers, embeddings_size, state_size, self.model)\n",
        "\n",
        "        # project the rnn output to a vector of VOCAB_SIZE length\n",
        "        self.output_w = self.model.add_parameters((VOCAB_SIZE, state_size))\n",
        "        self.output_b = self.model.add_parameters((VOCAB_SIZE))\n",
        "    \n",
        "    def _pre_process(self, string):\n",
        "        string = list(string) + [EOS]\n",
        "        return [char2int[c] for c in string]\n",
        "    \n",
        "    def _embed_string(self, string):\n",
        "        return [self.embeddings[char] for char in string]\n",
        "\n",
        "    def _run_rnn(self, init_state, input_vecs):\n",
        "        s = init_state\n",
        "\n",
        "        states = s.add_inputs(input_vecs)\n",
        "        rnn_outputs = [s.output() for s in states]\n",
        "        return rnn_outputs\n",
        "    \n",
        "    def _get_probs(self, rnn_output):\n",
        "        probs = dy.softmax(self.output_w * rnn_output + self.output_b)\n",
        "        return probs\n",
        "    \n",
        "    def __call__(self, input_string):\n",
        "        input_string = self._pre_process(input_string)\n",
        "        \n",
        "        dy.renew_cg()\n",
        "        \n",
        "        embedded_string = self._embed_string(input_string)\n",
        "        rnn_state = self.RNN.initial_state()\n",
        "        rnn_outputs = self._run_rnn(rnn_state, embedded_string)\n",
        "        return [self._get_probs(rnn_output) for rnn_output in rnn_outputs]\n",
        "\n",
        "            \n",
        "    def get_loss(self, input_string, output_string):\n",
        "        output_string = self._pre_process(output_string)\n",
        "\n",
        "        probs = self(input_string)\n",
        "        loss = [-dy.log(dy.pick(p, output_char)) for p, output_char in zip(probs, output_string)]\n",
        "        loss = dy.esum(loss)\n",
        "        return loss\n",
        "\n",
        "    def _predict(self, probs):\n",
        "        probs = probs.value()\n",
        "        predicted_char = int2char[probs.index(max(probs))]\n",
        "        return predicted_char\n",
        "    \n",
        "    def generate(self, input_string):\n",
        "        probs = self(input_string)\n",
        "        output_string = [self._predict(p) for p in probs]\n",
        "        output_string = ''.join(output_string)\n",
        "        return output_string.replace('<EOS>', '')"
      ],
      "execution_count": 0,
      "outputs": []
    },
    {
      "cell_type": "code",
      "metadata": {
        "id": "2j4rZE3Ocuqn",
        "colab_type": "code",
        "colab": {
          "base_uri": "https://localhost:8080/",
          "height": 401,
          "referenced_widgets": [
            "1f60b183bf704c3da43d5ed4cdf406dc",
            "e825e8bb26f440f287d233c8931a1357",
            "073c99bd5cae4199b0b86d698cf7abcd",
            "4078b092c7024ab4bb409759687b1287",
            "816db265d52442a6a2086cbff29d77ba",
            "e1f54453c179424ab520b1d252b1ec03",
            "4c17b036d031473e82f3688be47fc53a",
            "ddd05e7926684accb417e805316b0dcb"
          ]
        },
        "outputId": "f0424e11-fc4c-400f-c7c6-952b0dd54dbe"
      },
      "source": [
        "RNN_NUM_OF_LAYERS = 2\n",
        "EMBEDDINGS_SIZE = 4\n",
        "STATE_SIZE = 128\n",
        "\n",
        "\n",
        "rnn = SimpleRNNNetwork(RNN_NUM_OF_LAYERS, EMBEDDINGS_SIZE, STATE_SIZE)\n",
        "train(rnn, train_set, val_set, epochs = 5)\n",
        "print(rnn.generate('abc'))"
      ],
      "execution_count": 8,
      "outputs": [
        {
          "output_type": "stream",
          "text": [
            "/usr/local/lib/python3.6/dist-packages/ipykernel_launcher.py:14: TqdmDeprecationWarning: This function will be removed in tqdm==5.0.0\n",
            "Please use `tqdm.notebook.tqdm` instead of `tqdm.tqdm_notebook`\n",
            "  \n"
          ],
          "name": "stderr"
        },
        {
          "output_type": "display_data",
          "data": {
            "application/vnd.jupyter.widget-view+json": {
              "model_id": "1f60b183bf704c3da43d5ed4cdf406dc",
              "version_minor": 0,
              "version_major": 2
            },
            "text/plain": [
              "HBox(children=(IntProgress(value=0, max=15000), HTML(value='')))"
            ]
          },
          "metadata": {
            "tags": []
          }
        },
        {
          "output_type": "stream",
          "text": [
            "\n"
          ],
          "name": "stdout"
        },
        {
          "output_type": "display_data",
          "data": {
            "image/png": "[encoded data removed]",
            "text/plain": [
              "<Figure size 432x288 with 1 Axes>"
            ]
          },
          "metadata": {
            "tags": []
          }
        },
        {
          "output_type": "stream",
          "text": [
            "loss on validation set: 481.95005786418915\n",
            "bbb\n"
          ],
          "name": "stdout"
        }
      ]
    },
    {
      "cell_type": "code",
      "metadata": {
        "id": "XBVSXhtjdK1r",
        "colab_type": "code",
        "colab": {}
      },
      "source": [
        "class BiRNNNetwork(SimpleRNNNetwork):\n",
        "    def __init__(self, rnn_num_of_layers, embeddings_size, state_size):\n",
        "        self.model = dy.Model()\n",
        "\n",
        "        # the embedding paramaters\n",
        "        self.embeddings = self.model.add_lookup_parameters((VOCAB_SIZE, embeddings_size))\n",
        "\n",
        "        # the foreword rnn\n",
        "        self.fwd_RNN = RNN_BUILDER(rnn_num_of_layers, embeddings_size, state_size, self.model)\n",
        "        # the backword rnn\n",
        "        self.bwd_RNN = RNN_BUILDER(rnn_num_of_layers, embeddings_size, state_size, self.model)\n",
        "\n",
        "        # project the rnn output to a vector of VOCAB_SIZE length\n",
        "        self.output_w = self.model.add_parameters((VOCAB_SIZE, state_size*2))\n",
        "        self.output_b = self.model.add_parameters((VOCAB_SIZE))\n",
        "    \n",
        "    def __call__(self, input_string):\n",
        "        input_string = self._pre_process(input_string)\n",
        "        \n",
        "        dy.renew_cg()\n",
        "\n",
        "        embedded_string = self._embed_string(input_string)\n",
        "        \n",
        "        #run the foreword RNN\n",
        "        rnn_fwd_state = self.fwd_RNN.initial_state()\n",
        "        rnn_fwd_outputs = self._run_rnn(rnn_fwd_state, embedded_string)\n",
        "        \n",
        "        #run the backword rnn\n",
        "        rnn_bwd_state = self.bwd_RNN.initial_state()\n",
        "        rnn_bwd_outputs = self._run_rnn(rnn_bwd_state, embedded_string[::-1])[::-1]\n",
        "        \n",
        "        #concataenate the foreward and backword outputs\n",
        "        rnn_outputs = [dy.concatenate([fwd_out, bwd_out]) for fwd_out, bwd_out in zip(rnn_fwd_outputs, rnn_bwd_outputs)]\n",
        "        \n",
        "        loss = []\n",
        "        probs = [self._get_probs(rnn_output) for rnn_output in rnn_outputs]\n",
        "            \n",
        "        return probs"
      ],
      "execution_count": 0,
      "outputs": []
    },
    {
      "cell_type": "code",
      "metadata": {
        "id": "Mkas_IH6dQEP",
        "colab_type": "code",
        "colab": {
          "base_uri": "https://localhost:8080/",
          "height": 401,
          "referenced_widgets": [
            "3bce6d47fccc4638ae63c3aa2e49962c",
            "72058195f4e5444b91f124cfd926ce4b",
            "987609b3da684109b96a94f94a7f3778",
            "c4c3ab9d6eb74a84b0a3872c5ef53720",
            "5ded8dc1f16b4995be6f6a52b525b920",
            "7ec880800aa043eea39675ff45dde572",
            "7030ee095cc847a6bd45b23009c721af",
            "af82171078034b97bb1e03638d121e38"
          ]
        },
        "outputId": "f0dcf229-7793-4bcb-f127-6917eadd2064"
      },
      "source": [
        "RNN_NUM_OF_LAYERS = 2\n",
        "EMBEDDINGS_SIZE = 4\n",
        "STATE_SIZE = 64\n",
        "\n",
        "\n",
        "birnn = BiRNNNetwork(RNN_NUM_OF_LAYERS, EMBEDDINGS_SIZE, STATE_SIZE)\n",
        "train(birnn, train_set, val_set, epochs = 5)\n",
        "print(birnn.generate('abc'))\n"
      ],
      "execution_count": 10,
      "outputs": [
        {
          "output_type": "stream",
          "text": [
            "/usr/local/lib/python3.6/dist-packages/ipykernel_launcher.py:14: TqdmDeprecationWarning: This function will be removed in tqdm==5.0.0\n",
            "Please use `tqdm.notebook.tqdm` instead of `tqdm.tqdm_notebook`\n",
            "  \n"
          ],
          "name": "stderr"
        },
        {
          "output_type": "display_data",
          "data": {
            "application/vnd.jupyter.widget-view+json": {
              "model_id": "3bce6d47fccc4638ae63c3aa2e49962c",
              "version_minor": 0,
              "version_major": 2
            },
            "text/plain": [
              "HBox(children=(IntProgress(value=0, max=15000), HTML(value='')))"
            ]
          },
          "metadata": {
            "tags": []
          }
        },
        {
          "output_type": "stream",
          "text": [
            "\n"
          ],
          "name": "stdout"
        },
        {
          "output_type": "display_data",
          "data": {
            "image/png": "[encoded data removed]",
            "text/plain": [
              "<Figure size 432x288 with 1 Axes>"
            ]
          },
          "metadata": {
            "tags": []
          }
        },
        {
          "output_type": "stream",
          "text": [
            "loss on validation set: 440.94241666793823\n",
            "ccc\n"
          ],
          "name": "stdout"
        }
      ]
    },
    {
      "cell_type": "code",
      "metadata": {
        "id": "NvrltGpdfEX3",
        "colab_type": "code",
        "colab": {}
      },
      "source": [
        "class EncoderDecoderNetwork(SimpleRNNNetwork):\n",
        "    def __init__(self, enc_layers, dec_layers, embeddings_size, enc_state_size, dec_state_size):\n",
        "        self.model = dy.Model()\n",
        "\n",
        "        # the embedding paramaters\n",
        "        self.embeddings = self.model.add_lookup_parameters((VOCAB_SIZE, embeddings_size))\n",
        "\n",
        "        # the rnns\n",
        "        self.ENC_RNN = RNN_BUILDER(enc_layers, embeddings_size, enc_state_size, self.model)\n",
        "        self.DEC_RNN = RNN_BUILDER(dec_layers, enc_state_size, dec_state_size, self.model)\n",
        "\n",
        "        # project the rnn output to a vector of VOCAB_SIZE length\n",
        "        self.output_w = self.model.add_parameters((VOCAB_SIZE, dec_state_size))\n",
        "        self.output_b = self.model.add_parameters((VOCAB_SIZE))\n",
        "\n",
        "    def _encode_string(self, embedded_string):\n",
        "        initial_state = self.ENC_RNN.initial_state()\n",
        "\n",
        "        # run_rnn returns all the hidden state of all the slices of the RNN\n",
        "        hidden_states = self._run_rnn(initial_state, embedded_string)\n",
        "\n",
        "        return hidden_states\n",
        "\n",
        "    def __call__(self, input_string):\n",
        "        input_string = self._pre_process(input_string)\n",
        "        \n",
        "        dy.renew_cg()\n",
        "        \n",
        "        embedded_string = self._embed_string(input_string)\n",
        "        # The encoded string is the hidden state of the last slice of the encoder\n",
        "        encoded_string = self._encode_string(embedded_string)[-1]\n",
        "\n",
        "        rnn_state = self.DEC_RNN.initial_state()\n",
        "\n",
        "        probs = []\n",
        "        for _ in range(len(input_string)):\n",
        "            rnn_state = rnn_state.add_input(encoded_string)\n",
        "            p = self._get_probs(rnn_state.output())\n",
        "            probs.append(p)\n",
        "        return probs"
      ],
      "execution_count": 0,
      "outputs": []
    },
    {
      "cell_type": "code",
      "metadata": {
        "id": "nr9tmjHWfFuG",
        "colab_type": "code",
        "colab": {}
      },
      "source": [
        ""
      ],
      "execution_count": 0,
      "outputs": []
    },
    {
      "cell_type": "code",
      "metadata": {
        "id": "X1obKm_gfK4g",
        "colab_type": "code",
        "colab": {
          "base_uri": "https://localhost:8080/",
          "height": 419,
          "referenced_widgets": [
            "e474f2c12f464a1aad28382c7a3e1fbe",
            "310d31a79e524e5d8d0859c61a6c16ac",
            "9299d32c7d064f44a58f2768350ae3de",
            "ce4edb16c22e4e9f8318f63223f91eb4",
            "71f3378cfa94478792ea8717316b23e0",
            "e11c5974a8a54b29b80164dace661130",
            "fdc8a0787b874083b6d66739c579ad4f",
            "6cd544f4e9ee4cdb82c5990728c27b67"
          ]
        },
        "outputId": "f54f989b-988a-4faf-dbc3-d54b20a1fd37"
      },
      "source": [
        "ENC_RNN_NUM_OF_LAYERS = 1\n",
        "DEC_RNN_NUM_OF_LAYERS = 1\n",
        "EMBEDDINGS_SIZE = 4\n",
        "ENC_STATE_SIZE = 64\n",
        "DEC_STATE_SIZE = 64\n",
        "\n",
        "encoder_decoder = EncoderDecoderNetwork(\n",
        "    ENC_RNN_NUM_OF_LAYERS, DEC_RNN_NUM_OF_LAYERS, EMBEDDINGS_SIZE, ENC_STATE_SIZE, DEC_STATE_SIZE)\n",
        "train(encoder_decoder, train_set, val_set)\n",
        "print('abcd', '->', encoder_decoder.generate('abcd'))\n",
        "print('abcdabcdabcdabcd', '->', encoder_decoder.generate('abcdabcdabcdabcd'))\n"
      ],
      "execution_count": 12,
      "outputs": [
        {
          "output_type": "stream",
          "text": [
            "/usr/local/lib/python3.6/dist-packages/ipykernel_launcher.py:14: TqdmDeprecationWarning: This function will be removed in tqdm==5.0.0\n",
            "Please use `tqdm.notebook.tqdm` instead of `tqdm.tqdm_notebook`\n",
            "  \n"
          ],
          "name": "stderr"
        },
        {
          "output_type": "display_data",
          "data": {
            "application/vnd.jupyter.widget-view+json": {
              "model_id": "e474f2c12f464a1aad28382c7a3e1fbe",
              "version_minor": 0,
              "version_major": 2
            },
            "text/plain": [
              "HBox(children=(IntProgress(value=0, max=60000), HTML(value='')))"
            ]
          },
          "metadata": {
            "tags": []
          }
        },
        {
          "output_type": "stream",
          "text": [
            "\n"
          ],
          "name": "stdout"
        },
        {
          "output_type": "display_data",
          "data": {
            "image/png": "[encoded data removed]",
            "text/plain": [
              "<Figure size 432x288 with 1 Axes>"
            ]
          },
          "metadata": {
            "tags": []
          }
        },
        {
          "output_type": "stream",
          "text": [
            "loss on validation set: 136.12782923810414\n",
            "abcd -> dcba\n",
            "abcdabcdabcdabcd -> dcbaaccccbadbb\n"
          ],
          "name": "stdout"
        }
      ]
    },
    {
      "cell_type": "code",
      "metadata": {
        "id": "1V1yndsVfjCZ",
        "colab_type": "code",
        "colab": {
          "base_uri": "https://localhost:8080/",
          "height": 69
        },
        "outputId": "a618fe39-9406-4bf3-9756-bbc9a9c1de43"
      },
      "source": [
        "short_strings = [sample_model(1, 5) for _ in range(100)]\n",
        "medium_strings = [sample_model(5, 10) for _ in range(100)]\n",
        "long_strings = [sample_model(10, 15) for _ in range(100)]\n",
        "\n",
        "def count_matches(network, val_set):\n",
        "    matches = [network.generate(input_string)==output_string for input_string, output_string in val_set]\n",
        "    return matches.count(True)\n",
        "\n",
        "print('Matches for short strings', count_matches(encoder_decoder, short_strings))\n",
        "print('Matches for medium strings', count_matches(encoder_decoder, medium_strings))\n",
        "print('Matches for long strings', count_matches(encoder_decoder, long_strings))"
      ],
      "execution_count": 13,
      "outputs": [
        {
          "output_type": "stream",
          "text": [
            "Matches for short strings 100\n",
            "Matches for medium strings 84\n",
            "Matches for long strings 26\n"
          ],
          "name": "stdout"
        }
      ]
    },
    {
      "cell_type": "code",
      "metadata": {
        "id": "E0WNaRLnfo3S",
        "colab_type": "code",
        "colab": {}
      },
      "source": [
        "\n",
        "\n",
        "class AttentionNetwork(EncoderDecoderNetwork):\n",
        "    def __init__(self, enc_layers, dec_layers, embeddings_size, enc_state_size, dec_state_size):\n",
        "        EncoderDecoderNetwork.__init__(self, enc_layers, dec_layers, embeddings_size, enc_state_size, dec_state_size)\n",
        "\n",
        "        # attention weights\n",
        "        self.attention_w1 = self.model.add_parameters((enc_state_size, enc_state_size))\n",
        "        self.attention_w2 = self.model.add_parameters((enc_state_size, dec_state_size))\n",
        "        self.attention_v = self.model.add_parameters((1, enc_state_size))\n",
        "\n",
        "        self.enc_state_size = enc_state_size\n",
        "\n",
        "    def _attend(self, input_vectors, state):\n",
        "        attention_weights = []\n",
        "\n",
        "        w2dt = self.attention_w2 * state.h()[-1]\n",
        "        for input_vector in input_vectors:\n",
        "            attention_weight = self.attention_v * dy.tanh(self.attention_w1  * input_vector + w2dt)\n",
        "            attention_weights.append(attention_weight)\n",
        "        attention_weights = dy.softmax(dy.concatenate(attention_weights))\n",
        "\n",
        "        output_vectors = dy.esum(\n",
        "            [vector * attention_weight \n",
        "             for vector, attention_weight \n",
        "             in zip(input_vectors, attention_weights)])\n",
        "        return output_vectors\n",
        "\n",
        "    def __call__(self, input_string):\n",
        "        input_string = self._pre_process(input_string)\n",
        "        \n",
        "        dy.renew_cg()\n",
        "\n",
        "        embedded_string = self._embed_string(input_string)\n",
        "        encoded_string = self._encode_string(embedded_string)\n",
        "\n",
        "        rnn_state = self.DEC_RNN.initial_state().add_input(dy.vecInput(self.enc_state_size))\n",
        "\n",
        "        probs = []\n",
        "        for _ in range(len(input_string)):\n",
        "            attended_encoding = self._attend(encoded_string, rnn_state)\n",
        "            rnn_state = rnn_state.add_input(attended_encoding)\n",
        "            p = self._get_probs(rnn_state.output())\n",
        "            probs.append(p)\n",
        "        return probs\n",
        "\n"
      ],
      "execution_count": 0,
      "outputs": []
    },
    {
      "cell_type": "code",
      "metadata": {
        "id": "dccJcMXQfuCA",
        "colab_type": "code",
        "colab": {
          "base_uri": "https://localhost:8080/",
          "height": 401,
          "referenced_widgets": [
            "64f9de9c75ae43289bf65b03feae4bab",
            "b2cadbd231f5426eb35171588bd1af02",
            "3f56d5bab1aa48dfa45b1ea978e7cbca",
            "7e6ae536f05f4be38b36d54c4b6aaf77",
            "8fc7e31deeda4fb484885857894c49df",
            "e67032cf845741c1a10d4d7b58a605fe",
            "23282a021c7c413387d0cd2f7ff62562",
            "d23ddaaec89245068e2bc1e7e2e21763"
          ]
        },
        "outputId": "35acfef9-2190-4813-8eec-7ec07969d381"
      },
      "source": [
        "ENC_RNN_NUM_OF_LAYERS = 1\n",
        "DEC_RNN_NUM_OF_LAYERS = 1\n",
        "EMBEDDINGS_SIZE = 4\n",
        "ENC_STATE_SIZE = 32\n",
        "DEC_STATE_SIZE = 32\n",
        "\n",
        "att = AttentionNetwork(\n",
        "    ENC_RNN_NUM_OF_LAYERS, DEC_RNN_NUM_OF_LAYERS, EMBEDDINGS_SIZE, ENC_STATE_SIZE, DEC_STATE_SIZE)\n",
        "train(att, train_set, val_set)\n",
        "print(att.generate('abcdabcdabcdabcd'))\n",
        "\n"
      ],
      "execution_count": 15,
      "outputs": [
        {
          "output_type": "stream",
          "text": [
            "/usr/local/lib/python3.6/dist-packages/ipykernel_launcher.py:14: TqdmDeprecationWarning: This function will be removed in tqdm==5.0.0\n",
            "Please use `tqdm.notebook.tqdm` instead of `tqdm.tqdm_notebook`\n",
            "  \n"
          ],
          "name": "stderr"
        },
        {
          "output_type": "display_data",
          "data": {
            "application/vnd.jupyter.widget-view+json": {
              "model_id": "64f9de9c75ae43289bf65b03feae4bab",
              "version_minor": 0,
              "version_major": 2
            },
            "text/plain": [
              "HBox(children=(IntProgress(value=0, max=60000), HTML(value='')))"
            ]
          },
          "metadata": {
            "tags": []
          }
        },
        {
          "output_type": "stream",
          "text": [
            "\n"
          ],
          "name": "stdout"
        },
        {
          "output_type": "display_data",
          "data": {
            "image/png": "[encoded data removed]",
            "text/plain": [
              "<Figure size 432x288 with 1 Axes>"
            ]
          },
          "metadata": {
            "tags": []
          }
        },
        {
          "output_type": "stream",
          "text": [
            "loss on validation set: 0.01025974439107813\n",
            "dcadccbadcbadcba\n"
          ],
          "name": "stdout"
        }
      ]
    },
    {
      "cell_type": "code",
      "metadata": {
        "id": "EykUk3e4gkwY",
        "colab_type": "code",
        "colab": {
          "base_uri": "https://localhost:8080/",
          "height": 69
        },
        "outputId": "167ea012-2a27-490f-e246-f66e539e6e4f"
      },
      "source": [
        "print('Matches for short strings', count_matches(att, short_strings))\n",
        "print('Matches for medium strings', count_matches(att, medium_strings))\n",
        "print('Matches for long strings', count_matches(att, long_strings))"
      ],
      "execution_count": 16,
      "outputs": [
        {
          "output_type": "stream",
          "text": [
            "Matches for short strings 100\n",
            "Matches for medium strings 100\n",
            "Matches for long strings 100\n"
          ],
          "name": "stdout"
        }
      ]
    },
    {
      "cell_type": "code",
      "metadata": {
        "id": "pL8FTBE3go5U",
        "colab_type": "code",
        "colab": {}
      },
      "source": [
        "\n",
        "\n",
        "import numpy as np\n",
        "\n",
        "class AttentionNetworkWithPrint(AttentionNetwork):\n",
        "    def __init__(self, enc_layers, dec_layers, embeddings_size, enc_state_size, dec_state_size):\n",
        "        AttentionNetwork.__init__(self, enc_layers, dec_layers, embeddings_size, enc_state_size, dec_state_size)\n",
        "\n",
        "        self.should_print = False\n",
        "        self.att_mat = []\n",
        "\n",
        "    def _attend(self, input_vectors, state):\n",
        "        attention_weights = []\n",
        "\n",
        "        w2dt = self.attention_w2 * state.h()[-1]\n",
        "        for input_vector in input_vectors:\n",
        "            attention_weight = self.attention_v * dy.tanh(self.attention_w1 * input_vector + w2dt)\n",
        "            attention_weights.append(attention_weight)\n",
        "        attention_weights = dy.softmax(dy.concatenate(attention_weights))\n",
        "        if self.should_print:\n",
        "            self.att_mat.append(attention_weights.value())\n",
        "        output_vectors = dy.esum(\n",
        "            [vector * attention_weight \n",
        "             for vector, attention_weight \n",
        "             in zip(input_vectors, attention_weights)])\n",
        "        return output_vectors\n",
        "\n",
        "    def _plot_attention(self, matrix, max_weight=None, ax=None):\n",
        "        \"\"\"Draw Hinton diagram for visualizing a weight matrix.\"\"\"\n",
        "        # I stole this code for matplotlib tutorial\n",
        "        ax = ax if ax is not None else plt.gca()\n",
        "\n",
        "        if not max_weight:\n",
        "            max_weight = 2**np.ceil(np.log(np.abs(matrix).max())/np.log(2))\n",
        "\n",
        "        ax.patch.set_facecolor('gray')\n",
        "        ax.set_aspect('equal', 'box')\n",
        "        ax.xaxis.set_major_locator(plt.NullLocator())\n",
        "        ax.yaxis.set_major_locator(plt.NullLocator())\n",
        "\n",
        "        for (x, y), w in np.ndenumerate(matrix):\n",
        "            color = 'white' if w > 0 else 'black'\n",
        "            size = np.sqrt(np.abs(w))\n",
        "            rect = plt.Rectangle([x - size / 2, y - size / 2], size, size,\n",
        "                                 facecolor=color, edgecolor=color)\n",
        "            ax.add_patch(rect)\n",
        "\n",
        "        ax.autoscale_view()\n",
        "        ax.invert_yaxis()\n",
        "        plt.show()\n",
        "    \n",
        "    def generate_and_plot_attention(self, input_string):\n",
        "        att.should_print = True\n",
        "        att.att_mat = []\n",
        "        output_string = self.generate(input_string)\n",
        "        self._plot_attention(np.array(att.att_mat))\n",
        "        att.should_print = False\n",
        "        att.att_mat = []\n",
        "        return output_string\n",
        "\n"
      ],
      "execution_count": 0,
      "outputs": []
    },
    {
      "cell_type": "code",
      "metadata": {
        "id": "5La_uX3Kgq8a",
        "colab_type": "code",
        "colab": {
          "base_uri": "https://localhost:8080/",
          "height": 636,
          "referenced_widgets": [
            "360a3f17b75d4fbda6897e8120c704d0",
            "86a40d13770f4286bf9c43c7a616a9e6",
            "5e09762a24094d489538d06653803603",
            "6a19b7ab6b684888b299ca9fa43528fa",
            "ea7b0a9da0934e02881962c72f7d7e08",
            "0526754125ed49a6ae119d8ff6f30365",
            "48b8435297a940f98a6ad20b13ae6040",
            "0fc495532ae84f47969e08a7b2cdfafe"
          ]
        },
        "outputId": "96f4e891-6e1d-412f-a343-36a770a305c8"
      },
      "source": [
        "ENC_RNN_NUM_OF_LAYERS = 1\n",
        "DEC_RNN_NUM_OF_LAYERS = 1\n",
        "EMBEDDINGS_SIZE = 4\n",
        "ENC_STATE_SIZE = 32\n",
        "DEC_STATE_SIZE = 32\n",
        "\n",
        "att = AttentionNetworkWithPrint(ENC_RNN_NUM_OF_LAYERS, DEC_RNN_NUM_OF_LAYERS, EMBEDDINGS_SIZE, ENC_STATE_SIZE, DEC_STATE_SIZE)\n",
        "train(att, train_set, val_set)\n",
        "\n",
        "att.att_mat = []\n",
        "print(att.generate_and_plot_attention('abcdabcdabcdabcd'))"
      ],
      "execution_count": 18,
      "outputs": [
        {
          "output_type": "stream",
          "text": [
            "/usr/local/lib/python3.6/dist-packages/ipykernel_launcher.py:14: TqdmDeprecationWarning: This function will be removed in tqdm==5.0.0\n",
            "Please use `tqdm.notebook.tqdm` instead of `tqdm.tqdm_notebook`\n",
            "  \n"
          ],
          "name": "stderr"
        },
        {
          "output_type": "display_data",
          "data": {
            "application/vnd.jupyter.widget-view+json": {
              "model_id": "360a3f17b75d4fbda6897e8120c704d0",
              "version_minor": 0,
              "version_major": 2
            },
            "text/plain": [
              "HBox(children=(IntProgress(value=0, max=60000), HTML(value='')))"
            ]
          },
          "metadata": {
            "tags": []
          }
        },
        {
          "output_type": "stream",
          "text": [
            "\n"
          ],
          "name": "stdout"
        },
        {
          "output_type": "display_data",
          "data": {
            "image/png": "[encoded data removed]",
            "text/plain": [
              "<Figure size 432x288 with 1 Axes>"
            ]
          },
          "metadata": {
            "tags": []
          }
        },
        {
          "output_type": "stream",
          "text": [
            "loss on validation set: 0.009943068969732849\n"
          ],
          "name": "stdout"
        },
        {
          "output_type": "display_data",
          "data": {
            "image/png": "[encoded data removed]",
            "text/plain": [
              "<Figure size 432x288 with 1 Axes>"
            ]
          },
          "metadata": {
            "tags": []
          }
        },
        {
          "output_type": "stream",
          "text": [
            "dcbacbadcbadcba\n"
          ],
          "name": "stdout"
        }
      ]
    },
    {
      "cell_type": "markdown",
      "metadata": {
        "id": "Cqi_u_dRi9CD",
        "colab_type": "text"
      },
      "source": [
        "Test periodic dataset"
      ]
    },
    {
      "cell_type": "code",
      "metadata": {
        "id": "j-jedfNXjAzI",
        "colab_type": "code",
        "colab": {}
      },
      "source": [
        "from random import choice, randrange\n",
        "\n",
        "EOS = \"<EOS>\" #all strings will end with the End Of String token\n",
        "characters = list(\"abcdefg\")\n",
        "characters.append(EOS)\n",
        "\n",
        "int2char = list(characters)\n",
        "char2int = {c:i for i,c in enumerate(characters)}\n",
        "\n",
        "VOCAB_SIZE = len(characters)\n",
        "\n",
        "def sample_periodic_model(min_length, max_lenth):\n",
        "    random_length = randrange(min_length, max_lenth)                             # Pick a random length\n",
        "    random_char_list = [choice(characters[:-1]) for _ in range(random_length)]  # Pick random chars\n",
        "    random_string = ''.join(random_char_list) \n",
        "    return random_string, random_string[1:] + random_string[0]  # Return the random string and its reverse"
      ],
      "execution_count": 0,
      "outputs": []
    },
    {
      "cell_type": "code",
      "metadata": {
        "id": "Me99VxoKjqqN",
        "colab_type": "code",
        "colab": {
          "base_uri": "https://localhost:8080/",
          "height": 52
        },
        "outputId": "44aeda98-95dc-45cf-f3c6-151bcacbcf12"
      },
      "source": [
        "print(sample_model(4, 5))\n",
        "print(sample_model(5, 10))"
      ],
      "execution_count": 24,
      "outputs": [
        {
          "output_type": "stream",
          "text": [
            "('ffef', 'feff')\n",
            "('cfdfecbdf', 'fdfecbdfc')\n"
          ],
          "name": "stdout"
        }
      ]
    },
    {
      "cell_type": "code",
      "metadata": {
        "id": "9vTo0jmFknLo",
        "colab_type": "code",
        "colab": {}
      },
      "source": [
        "MAX_STRING_LEN = 25\n",
        "\n",
        "train_set = [sample_model(1, MAX_STRING_LEN) for _ in range(3000)]\n",
        "val_set = [sample_model(1, MAX_STRING_LEN) for _ in range(50)]"
      ],
      "execution_count": 0,
      "outputs": []
    },
    {
      "cell_type": "code",
      "metadata": {
        "id": "eaV7ezl_kpv1",
        "colab_type": "code",
        "colab": {}
      },
      "source": [
        "val_set"
      ],
      "execution_count": 0,
      "outputs": []
    },
    {
      "cell_type": "code",
      "metadata": {
        "id": "gQP-k6MYi2r1",
        "colab_type": "code",
        "colab": {
          "base_uri": "https://localhost:8080/",
          "height": 636,
          "referenced_widgets": [
            "3704d203bab246949c37d523940e1e33",
            "816ef0ba7c53434fb31ef76ab984920a",
            "567e7435d2924ddeb325e725b5a632d6",
            "b67b2f9dcedf4b349b7ebf3d0e0d3aa0",
            "72afde9eb1644c50be1dbc46b6bbdaad",
            "f677b22db1ce4e479880d1e0bb31858a",
            "2170f54490c943aba8871e89c5d111b5",
            "5c663c023ece457cac6cee0da05ea53c"
          ]
        },
        "outputId": "8196a641-ea48-4885-c209-7b859a3a84f9"
      },
      "source": [
        "ENC_RNN_NUM_OF_LAYERS = 1\n",
        "DEC_RNN_NUM_OF_LAYERS = 1\n",
        "EMBEDDINGS_SIZE = 4\n",
        "ENC_STATE_SIZE = 32\n",
        "DEC_STATE_SIZE = 32\n",
        "\n",
        "att = AttentionNetworkWithPrint(ENC_RNN_NUM_OF_LAYERS, DEC_RNN_NUM_OF_LAYERS, EMBEDDINGS_SIZE, ENC_STATE_SIZE, DEC_STATE_SIZE)\n",
        "train(att, train_set, val_set)\n",
        "\n",
        "att.att_mat = []\n",
        "print(att.generate_and_plot_attention('abcdabcdabcdabcd'))"
      ],
      "execution_count": 69,
      "outputs": [
        {
          "output_type": "stream",
          "text": [
            "/usr/local/lib/python3.6/dist-packages/ipykernel_launcher.py:14: TqdmDeprecationWarning: This function will be removed in tqdm==5.0.0\n",
            "Please use `tqdm.notebook.tqdm` instead of `tqdm.tqdm_notebook`\n",
            "  \n"
          ],
          "name": "stderr"
        },
        {
          "output_type": "display_data",
          "data": {
            "application/vnd.jupyter.widget-view+json": {
              "model_id": "3704d203bab246949c37d523940e1e33",
              "version_minor": 0,
              "version_major": 2
            },
            "text/plain": [
              "HBox(children=(IntProgress(value=0, max=60000), HTML(value='')))"
            ]
          },
          "metadata": {
            "tags": []
          }
        },
        {
          "output_type": "stream",
          "text": [
            "\n"
          ],
          "name": "stdout"
        },
        {
          "output_type": "display_data",
          "data": {
            "image/png": "[encoded data removed]",
            "text/plain": [
              "<Figure size 432x288 with 1 Axes>"
            ]
          },
          "metadata": {
            "tags": []
          }
        },
        {
          "output_type": "stream",
          "text": [
            "loss on validation set: 0.5753257968463004\n"
          ],
          "name": "stdout"
        },
        {
          "output_type": "display_data",
          "data": {
            "image/png": "[encoded data removed]",
            "text/plain": [
              "<Figure size 432x288 with 1 Axes>"
            ]
          },
          "metadata": {
            "tags": []
          }
        },
        {
          "output_type": "stream",
          "text": [
            "bcdabcdabcdabcda\n"
          ],
          "name": "stdout"
        }
      ]
    },
    {
      "cell_type": "code",
      "metadata": {
        "id": "ucP9Xav4mPWw",
        "colab_type": "code",
        "colab": {}
      },
      "source": [
        "short_strings = [sample_periodic_model(1, 5) for _ in range(100)]\n",
        "medium_strings = [sample_periodic_model(5, 10) for _ in range(100)]\n",
        "long_strings = [sample_periodic_model(10, 15) for _ in range(100)]"
      ],
      "execution_count": 0,
      "outputs": []
    },
    {
      "cell_type": "code",
      "metadata": {
        "id": "ht_wdWQnlqbb",
        "colab_type": "code",
        "colab": {
          "base_uri": "https://localhost:8080/",
          "height": 69
        },
        "outputId": "36a64e25-467a-4c50-fca8-80b37adb6e25"
      },
      "source": [
        "print('Matches for short strings', count_matches(att, short_strings))\n",
        "print('Matches for medium strings', count_matches(att, medium_strings))\n",
        "print('Matches for long strings', count_matches(att, long_strings))"
      ],
      "execution_count": 72,
      "outputs": [
        {
          "output_type": "stream",
          "text": [
            "Matches for short strings 100\n",
            "Matches for medium strings 100\n",
            "Matches for long strings 100\n"
          ],
          "name": "stdout"
        }
      ]
    },
    {
      "cell_type": "code",
      "metadata": {
        "id": "z9iKE0UkoSyc",
        "colab_type": "code",
        "colab": {
          "base_uri": "https://localhost:8080/",
          "height": 321
        },
        "outputId": "16b6712b-dace-4a3c-f9a2-ec556640fbf7"
      },
      "source": [
        "x, y = sample_periodic_model(20, 25)\n",
        "pred = att.generate_and_plot_attention(x)\n",
        "print('x ', x)\n",
        "print('y ', y)\n",
        "print('pred', pred)\n",
        "pred == y"
      ],
      "execution_count": 75,
      "outputs": [
        {
          "output_type": "display_data",
          "data": {
            "image/png": "[encoded data removed]",
            "text/plain": [
              "<Figure size 432x288 with 1 Axes>"
            ]
          },
          "metadata": {
            "tags": []
          }
        },
        {
          "output_type": "stream",
          "text": [
            "x  ebcadcgfafdedecggggccbf\n",
            "y  bcadcgfafdedecggggccbfe\n",
            "pred bcadcgfafdedecggggccbfe\n"
          ],
          "name": "stdout"
        },
        {
          "output_type": "execute_result",
          "data": {
            "text/plain": [
              "True"
            ]
          },
          "metadata": {
            "tags": []
          },
          "execution_count": 75
        }
      ]
    }
  ]
}