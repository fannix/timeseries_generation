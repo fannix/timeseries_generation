{
  "nbformat": 4,
  "nbformat_minor": 0,
  "metadata": {
    "colab": {
      "name": "attention.ipynb",
      "provenance": [],
      "collapsed_sections": [],
      "authorship_tag": "ABX9TyMPEBO2vfQLnVr5WSexH+aE",
      "include_colab_link": true
    },
    "kernelspec": {
      "name": "python3",
      "display_name": "Python 3"
    },
    "accelerator": "GPU"
  },
  "cells": [
    {
      "cell_type": "markdown",
      "metadata": {
        "id": "view-in-github",
        "colab_type": "text"
      },
      "source": [
        "<a href=\"https://colab.research.google.com/github/fannix/timeseries_generation/blob/master/attention.ipynb\" target=\"_parent\"><img src=\"https://colab.research.google.com/assets/colab-badge.svg\" alt=\"Open In Colab\"/></a>"
      ]
    },
    {
      "cell_type": "code",
      "metadata": {
        "id": "AWclGfe-E4qQ",
        "colab_type": "code",
        "outputId": "4da72844-248e-452e-9de2-0a8a2a309150",
        "colab": {
          "base_uri": "https://localhost:8080/",
          "height": 104
        }
      },
      "source": [
        "import torch\n",
        "batch_size = 5\n",
        "nb_digits = 10\n",
        "y = torch.LongTensor(batch_size,1).random_() % nb_digits\n",
        "y\n",
        "y_onehot = torch.FloatTensor(batch_size, nb_digits)\n",
        "y_onehot.zero_()\n",
        "y_onehot.scatter_(1, y, 1)"
      ],
      "execution_count": 8,
      "outputs": [
        {
          "output_type": "execute_result",
          "data": {
            "text/plain": [
              "tensor([[0., 0., 1., 0., 0., 0., 0., 0., 0., 0.],\n",
              "        [0., 1., 0., 0., 0., 0., 0., 0., 0., 0.],\n",
              "        [0., 0., 0., 0., 0., 0., 0., 1., 0., 0.],\n",
              "        [0., 0., 0., 0., 0., 0., 0., 0., 1., 0.],\n",
              "        [0., 0., 0., 0., 0., 1., 0., 0., 0., 0.]])"
            ]
          },
          "metadata": {
            "tags": []
          },
          "execution_count": 8
        }
      ]
    },
    {
      "cell_type": "code",
      "metadata": {
        "id": "hq-knOM4rWPe",
        "colab_type": "code",
        "colab": {}
      },
      "source": [
        "device = torch.device(\"cuda\" if torch.cuda.is_available() else \"cpu\")"
      ],
      "execution_count": 0,
      "outputs": []
    },
    {
      "cell_type": "code",
      "metadata": {
        "id": "jU7xzLWwqq9W",
        "colab_type": "code",
        "colab": {}
      },
      "source": [
        "import torch\n",
        "from torch import nn\n",
        "\n",
        "from torch.utils.data import DataLoader\n",
        "\n",
        "\n",
        "class DecoderRNN(nn.Module):\n",
        "  def __init__(self, hidden_size, output_size):\n",
        "    super().__init__()\n",
        "    self.hidden_size = hidden_size\n",
        "\n",
        "    self.embedding = nn.Embedding(output_size, hidden_size)\n",
        "    self.lstm = nn.LSTM(hidden_size, hidden_size, batch_first=True)\n",
        "    self.out = nn.Linear(hidden_size, output_size)\n",
        "\n",
        "  def forward(self, input, hc):\n",
        "    output = self.embedding(input)\n",
        "    output = torch.relu(output)\n",
        "    output, (hidden, cell) = self.lstm(output, hc)\n",
        "    #print(output.shape)\n",
        "    output = self.out(output)\n",
        "    return output, (hidden, cell)\n",
        "\n",
        "  def init_hidden(self, batch_size):\n",
        "    return (torch.zeros(1, batch_size, self.hidden_size, device=device), \n",
        "            torch.zeros(1, batch_size, self.hidden_size, device=device))\n",
        "\n",
        "\n",
        "class EncoderRNN(nn.Module):\n",
        "  def __init__(self, input_size, hidden_size):\n",
        "    super().__init__()\n",
        "    self.hidden_size = hidden_size\n",
        "\n",
        "    self.embedding = nn.Embedding(input_size, hidden_size)\n",
        "    self.lstm = nn.LSTM(hidden_size, hidden_size, batch_first=True)\n",
        "\n",
        "  def forward(self, input, hc):\n",
        "    embedded = self.embedding(input)\n",
        "    output = embedded\n",
        "    output, (hidden, cell) = self.lstm(output, hc)\n",
        "    return output, (hidden, cell)\n",
        "\n",
        "  def init_hidden(self, batch_size):\n",
        "    return (torch.zeros(1, batch_size, self.hidden_size, device=device),\n",
        "            torch.zeros(1, batch_size, self.hidden_size, device=device))\n",
        "\n",
        "class Seq2Seq(nn.Module):\n",
        "  def __init__(self, input_size, hidden_size):\n",
        "    super().__init__()\n",
        "    self.encoder = EncoderRNN(input_size, hidden_size)\n",
        "    self.decoder = DecoderRNN(hidden_size, input_size)\n",
        "  \n",
        "  def forward(self, input, expected = None):\n",
        "    batch_size = input.shape[0]\n",
        "    h0, c0 = self.encoder.init_hidden(batch_size)\n",
        "    encode_output, (encode_hidden, encode_cell) = self.encoder(input, (h0, c0))\n",
        "\n",
        "    inp = torch.zeros(batch_size, dtype=torch.long, device=device)\n",
        "    inp = inp.view(batch_size, 1)\n",
        "    h, c = encode_hidden, encode_cell\n",
        "\n",
        "    #print(inp.shape)\n",
        "    output_list = []\n",
        "    while True:\n",
        "      if expected == None:\n",
        "        out, (h, c) = self.decoder(inp, (h, c))\n",
        "      # teacher forcing\n",
        "      else:\n",
        "        pass\n",
        "      output_list.append(out.squeeze(1))\n",
        "      if len(output_list) == input.shape[1]:\n",
        "        break\n",
        "    # print(output_list[0].shape)\n",
        "    return torch.stack(output_list, 2)\n",
        "\n"
      ],
      "execution_count": 0,
      "outputs": []
    },
    {
      "cell_type": "markdown",
      "metadata": {
        "id": "Dk0GKtWAf9IM",
        "colab_type": "text"
      },
      "source": [
        "Attention LSTM Seq2Seq"
      ]
    },
    {
      "cell_type": "code",
      "metadata": {
        "id": "XGOZD16V9TAU",
        "colab_type": "code",
        "outputId": "7475e420-65a2-441d-ede3-b7833bc2488c",
        "colab": {
          "base_uri": "https://localhost:8080/",
          "height": 34
        }
      },
      "source": [
        "from torch.utils import data\n",
        "from random import choice, randrange\n",
        "import numpy as np\n",
        "class ReverseDataset(data.Dataset):\n",
        "    \"\"\"\n",
        "    Inspired from https://talbaumel.github.io/blog/attention/\n",
        "    \"\"\"\n",
        "    def __init__(self, min_length=5, max_length=20, type='train'):\n",
        "        self.SOS = \"<s>\"  # id 0\n",
        "        self.EOS = \"</s>\" # id 1\n",
        "        self.characters = list(\"abcd\")\n",
        "        self.int2char = list(self.characters)\n",
        "        self.char2int = {c: i+2 for i, c in enumerate(self.characters)}\n",
        "        self.VOCAB_SIZE = len(self.characters)\n",
        "        self.min_length = min_length\n",
        "        self.max_length = max_length\n",
        "        if type=='train':\n",
        "            self.set = [self._sample() for _ in range(3000)]\n",
        "        else:\n",
        "            self.set = [self._sample() for _ in range(300)]\n",
        "\n",
        "    def __len__(self):\n",
        "        return len(self.set)\n",
        "\n",
        "    def __getitem__(self, item):\n",
        "        return self.set[item]\n",
        "\n",
        "    def _sample(self):\n",
        "        if self.min_length != self.max_length:\n",
        "            random_length = randrange(self.min_length, self.max_length)# Pick a random length\n",
        "        else:\n",
        "            random_length = self.min_length\n",
        "        random_char_list = [choice(self.characters[:-1]) for _ in range(random_length)]  # Pick random chars\n",
        "        random_string = ''.join(random_char_list)\n",
        "        a = np.array([self.char2int.get(x) for x in random_string] + [1])\n",
        "        b = np.array([self.char2int.get(x) for x in random_string[::-1]] + [1]) # Return the random string and its reverse\n",
        "        #x = np.zeros((random_length, self.VOCAB_SIZE))\n",
        "        #x[np.arange(random_length), a-2] = 1\n",
        "        return a, b\n",
        "\n",
        "reverse_dataset = ReverseDataset(4, 4)\n",
        "reverse_dataset[0]"
      ],
      "execution_count": 12,
      "outputs": [
        {
          "output_type": "execute_result",
          "data": {
            "text/plain": [
              "(array([2, 2, 2, 2, 1]), array([2, 2, 2, 2, 1]))"
            ]
          },
          "metadata": {
            "tags": []
          },
          "execution_count": 12
        }
      ]
    },
    {
      "cell_type": "code",
      "metadata": {
        "id": "U8EV27NZUuR_",
        "colab_type": "code",
        "colab": {}
      },
      "source": [
        "import torch\n",
        "device = torch.device(\"cuda\" if torch.cuda.is_available() else \"cpu\")\n",
        "device = torch.device(\"cpu\")"
      ],
      "execution_count": 0,
      "outputs": []
    },
    {
      "cell_type": "code",
      "metadata": {
        "colab_type": "code",
        "id": "5-o01AZGf6kv",
        "colab": {}
      },
      "source": [
        "import torch\n",
        "from torch import nn\n",
        "import math\n",
        "\n",
        "from torch.utils.data import DataLoader\n",
        "\n",
        "class AttenEncoderRNN(nn.Module):\n",
        "  def __init__(self, input_size, hidden_size):\n",
        "    super().__init__()\n",
        "    self.hidden_size = hidden_size\n",
        "\n",
        "    self.embedding = nn.Embedding(input_size, hidden_size)\n",
        "    self.lstm = nn.LSTM(hidden_size, hidden_size, batch_first=True)\n",
        "\n",
        "  def forward(self, input, hc):\n",
        "    embedded = self.embedding(input)\n",
        "    output = embedded\n",
        "    output, (hidden, cell) = self.lstm(output, hc)\n",
        "    return output, (hidden, cell)\n",
        "\n",
        "  def init_hidden(self, batch_size):\n",
        "    return (torch.zeros(1, batch_size, self.hidden_size, device=device),\n",
        "            torch.zeros(1, batch_size, self.hidden_size, device=device))\n",
        "\n",
        "class AttenDecoderRNN(nn.Module):\n",
        "  def __init__(self, hidden_size, output_size):\n",
        "    super().__init__()\n",
        "    self.hidden_size = hidden_size\n",
        "\n",
        "    self.embedding = nn.Embedding(output_size, hidden_size)\n",
        "    self.lstm = nn.LSTM(hidden_size, hidden_size, batch_first=True)\n",
        "    self.out = nn.Linear(hidden_size, output_size)\n",
        "    self.combine = nn.Linear(2 * hidden_size, hidden_size)\n",
        "\n",
        "  def forward(self, input, hc, encode_out):\n",
        "    embed = self.embedding(input)\n",
        "    attn = attention(embed, encode_out, encode_out)\n",
        "    comb = self.combine(torch.cat([embed, attn[0]], -1))\n",
        "    output = torch.relu(comb)\n",
        "    output, (hidden, cell) = self.lstm(output, hc)\n",
        "    #print(output.shape)\n",
        "    output = self.out(output)\n",
        "    return output, (hidden, cell)\n",
        "\n",
        "  def init_hidden(self, batch_size):\n",
        "    return (torch.zeros(1, batch_size, self.hidden_size, device=device), \n",
        "            torch.zeros(1, batch_size, self.hidden_size, device=device))\n",
        "\n",
        "\n",
        "def attention(query, key, value, mask=None, dropout=None):\n",
        "    \"\"\"Compute 'Scaled Dot Product Attention\n",
        "    query: N x 1 x D\n",
        "    key: N x T x D\n",
        "    value: N x T x D. key and value are the same. query, key and value are the same for self attention\n",
        "    scores: N x 1 x T\n",
        "    p_attn: N x 1 x T\n",
        "    result: N x 1 x D\n",
        "    \n",
        "    \"\"\"\n",
        "    d_k = query.size(-1)\n",
        "    scores = torch.matmul(query, key.transpose(-2, -1)) \\\n",
        "             / math.sqrt(d_k)\n",
        "    if mask is not None:\n",
        "        scores = scores.masked_fill(mask == 0, -1e9)\n",
        "    p_attn = torch.nn.functional.softmax(scores, dim = -1)\n",
        "    if dropout is not None:\n",
        "        p_attn = dropout(p_attn)\n",
        "    return torch.matmul(p_attn, value), p_attn\n",
        "\n",
        "class AttenSeq2Seq(nn.Module):\n",
        "  def __init__(self, input_size, hidden_size):\n",
        "    super().__init__()\n",
        "    self.encoder = AttenEncoderRNN(input_size, hidden_size)\n",
        "    self.decoder = AttenDecoderRNN(hidden_size, input_size)\n",
        "  \n",
        "  def forward(self, input, expected = None):\n",
        "    batch_size = input.shape[0]\n",
        "    h0, c0 = self.encoder.init_hidden(batch_size)\n",
        "    encode_output, (encode_hidden, encode_cell) = self.encoder(input, (h0, c0))\n",
        "    # 0 is the start_symbol\n",
        "    inp = torch.zeros(batch_size, dtype=torch.long, device=device)\n",
        "    inp = inp.view(batch_size, 1)\n",
        "    h, c = encode_hidden, encode_cell\n",
        "    #print(inp.shape)\n",
        "    output_list = []\n",
        "    while True:\n",
        "      if expected == None:\n",
        "        out, (h, c) = self.decoder(inp, (h, c), encode_output)\n",
        "      # teacher forcing\n",
        "      else:\n",
        "        pass\n",
        "      output_list.append(out.squeeze(1))\n",
        "      if len(output_list) == input.shape[1]:\n",
        "        break\n",
        "    # print(output_list[0].shape)\n",
        "    return torch.stack(output_list, 2)\n",
        "\n"
      ],
      "execution_count": 0,
      "outputs": []
    },
    {
      "cell_type": "code",
      "metadata": {
        "id": "_bO2NLMp9XM3",
        "colab_type": "code",
        "outputId": "721af43f-0e88-4f0a-f679-f7a33ac5be44",
        "colab": {
          "base_uri": "https://localhost:8080/",
          "height": 191
        }
      },
      "source": [
        "reverse_dataset = ReverseDataset(3, 10)\n",
        "\n",
        "loader = DataLoader(reverse_dataset, 1)\n",
        "\n",
        "model = AttenSeq2Seq(len(reverse_dataset.char2int) + 2, 128).to(device)\n",
        "\n",
        "criterion = torch.nn.functional.cross_entropy\n",
        "optimizer = torch.optim.Adam(model.parameters())\n",
        "for epoch in range(10):\n",
        "  sum_criterion = 0\n",
        "  n_instance = 0\n",
        "  for x, y in loader:\n",
        "    n_instance += x.shape[0]\n",
        "    optimizer.zero_grad()\n",
        "    res = model(x.to(device))\n",
        "    loss = criterion(res, y.to(device))\n",
        "    loss.backward()\n",
        "    sum_criterion += loss.item()\n",
        "    \n",
        "    optimizer.step()\n",
        "\n",
        "  print(f'{epoch}: {sum_criterion/n_instance}')"
      ],
      "execution_count": 15,
      "outputs": [
        {
          "output_type": "stream",
          "text": [
            "0: 0.23522539879724597\n",
            "1: 0.06295872043104948\n",
            "2: 0.03875238106506943\n",
            "3: 0.0279807736170986\n",
            "4: 0.01984829056529664\n",
            "5: 0.016359679112511988\n",
            "6: 0.013531920917546092\n",
            "7: 0.011737098647560382\n",
            "8: 0.012188883421460503\n",
            "9: 0.01168644904931591\n"
          ],
          "name": "stdout"
        }
      ]
    },
    {
      "cell_type": "code",
      "metadata": {
        "id": "-d9BRd4pSA4M",
        "colab_type": "code",
        "outputId": "03ca2aaf-6a8c-4549-a1a8-1b147c82b809",
        "colab": {
          "base_uri": "https://localhost:8080/",
          "height": 69
        }
      },
      "source": [
        "print(y)\n",
        "\n",
        "res = model(x.to(device))\n",
        "\n",
        "print(res.argmax(dim=1))\n",
        "\n",
        "print(torch.sum(res.argmax(dim=1) == y.to(device)) / float(res.shape[0] * res.shape[2]))"
      ],
      "execution_count": 16,
      "outputs": [
        {
          "output_type": "stream",
          "text": [
            "tensor([[4, 4, 2, 3, 1]])\n",
            "tensor([[4, 4, 2, 3, 1]])\n",
            "tensor(1.)\n"
          ],
          "name": "stdout"
        }
      ]
    },
    {
      "cell_type": "code",
      "metadata": {
        "id": "P7YM2PSETM1B",
        "colab_type": "code",
        "outputId": "13665519-df59-45e5-ec16-ac23fc23807a",
        "colab": {
          "base_uri": "https://localhost:8080/",
          "height": 52
        }
      },
      "source": [
        "a = torch.LongTensor([[2, 3, 4, 2, 1], [4, 3, 2, 3, 1]]).to(device)\n",
        "model(a).argmax(1)"
      ],
      "execution_count": 17,
      "outputs": [
        {
          "output_type": "execute_result",
          "data": {
            "text/plain": [
              "tensor([[2, 4, 3, 2, 1],\n",
              "        [3, 2, 3, 4, 1]])"
            ]
          },
          "metadata": {
            "tags": []
          },
          "execution_count": 17
        }
      ]
    },
    {
      "cell_type": "code",
      "metadata": {
        "id": "p_1e6i9IwZTN",
        "colab_type": "code",
        "colab": {
          "base_uri": "https://localhost:8080/",
          "height": 34
        },
        "outputId": "ebfa3ad7-5560-4dca-8ba4-8c1b838728b9"
      },
      "source": [
        "reverse_dataset_val = ReverseDataset(3, 10, type=\"test\")\n",
        "val_loader = DataLoader(reverse_dataset_val, 1)\n",
        "with torch.no_grad():\n",
        "  ncorrect = 0\n",
        "  nwrong = 0\n",
        "  for x, y in val_loader:\n",
        "    predict = model(x.to(device)).argmax(1)\n",
        "    if torch.equal(y, predict):\n",
        "      ncorrect += 1\n",
        "    else:\n",
        "      nwrong += 1\n",
        "print(f'{ncorrect}, {nwrong}')\n"
      ],
      "execution_count": 18,
      "outputs": [
        {
          "output_type": "stream",
          "text": [
            "293, 7\n"
          ],
          "name": "stdout"
        }
      ]
    },
    {
      "cell_type": "markdown",
      "metadata": {
        "id": "eUZa5cpxTF8s",
        "colab_type": "text"
      },
      "source": [
        "Test PeriodicDataset"
      ]
    },
    {
      "cell_type": "code",
      "metadata": {
        "id": "dtSH_ivjqXHn",
        "colab_type": "code",
        "outputId": "236c85d0-133a-4075-b472-9fdde143655d",
        "colab": {
          "base_uri": "https://localhost:8080/",
          "height": 208
        }
      },
      "source": [
        "import numpy as np\n",
        "import random\n",
        "import torch\n",
        "from random import choice, randrange\n",
        "\n",
        "class PeriodicSeriesDataset(torch.utils.data.Dataset):\n",
        "  def __init__(self, sequence, num, min_length=5, max_length=15):\n",
        "    \n",
        "    self.sequence = sequence\n",
        "    self.start_symbol = \"<s>\"\n",
        "    self.end_symbol = \"</s>\"\n",
        "    self.min_length = min_length\n",
        "    self.max_length = max_length\n",
        "\n",
        "    self.x = []\n",
        "    self.y = []\n",
        "    self.id2word = {i+2: w for (i, w) in enumerate(sequence)}\n",
        "    self.id2word[0] = self.start_symbol\n",
        "    self.id2word[1] = self.end_symbol\n",
        "    self.word2id = {w: i for (i, w) in self.id2word.items()}\n",
        "    seq2id = np.array([self.word2id[w] for w in sequence])\n",
        "    print(sequence)\n",
        "    place_holder = np.zeros(len(sequence) + 2, dtype=np.int)\n",
        "    place_holder[-1] = 1\n",
        "    for i in range(num):\n",
        "      xi, yi = self._sample(self.min_length, self.max_length)\n",
        "      xi = np.array([self.word2id[e] for e in xi] + [1])\n",
        "      yi = np.array([self.word2id[e] for e in yi] + [1])\n",
        "\n",
        "      self.x.append(xi)\n",
        "      self.y.append(yi)\n",
        "\n",
        "      \n",
        "  def __len__(self):\n",
        "    return len(self.x)\n",
        "  \n",
        "  def _sample(self, min_length, max_length):\n",
        "    random_length = randrange(min_length, max_length)                             # Pick a random length\n",
        "    random_char_list = [choice(self.sequence) for _ in range(random_length)]  # Pick random chars\n",
        "    random_string = ''.join(random_char_list) \n",
        "    return random_string, random_string[-1] + random_string[0:-1]  # Return the random string and its shift\n",
        "\n",
        "  def onehot_seq(self, word_seq):\n",
        "    num_seq = [self.word2id[w] for w in word_seq]\n",
        "    return self.onehot_num(num_seq)\n",
        "  \n",
        "  def onehot_num(self, num_seq):\n",
        "    y = torch.LongTensor(num_seq).view(-1, 1)\n",
        "    onehot = torch.FloatTensor(len(num_seq), len(self.word2id))\n",
        "    onehot.zero_()\n",
        "    onehot.scatter_(1, y, 1)\n",
        "    return onehot\n",
        "  \n",
        "  def onecold_num(self, tensor):\n",
        "    dim_n = tensor.shape[0]\n",
        "    dim_c = tensor.shape[1]\n",
        "    onecold = tensor.argmax(dim=1)\n",
        "    return onecold\n",
        "\n",
        "  def onecold_seq(self, tensor):\n",
        "    onecold = self.onecold_num(tensor)\n",
        "    print(onecold)\n",
        "    return [self.id2word[i.item()] for i in onecold]\n",
        "\n",
        "  def __getitem__(self, index):\n",
        "    return  self.x[index], self.y[index]\n",
        "\n",
        "import string\n",
        "sequence = list(string.ascii_letters[:6])\n",
        "pseries = PeriodicSeriesDataset(sequence, 10)\n",
        "for i in range(len(pseries)):\n",
        "  print(pseries[i])\n"
      ],
      "execution_count": 19,
      "outputs": [
        {
          "output_type": "stream",
          "text": [
            "['a', 'b', 'c', 'd', 'e', 'f']\n",
            "(array([7, 7, 2, 6, 2, 7, 6, 4, 7, 3, 1]), array([3, 7, 7, 2, 6, 2, 7, 6, 4, 7, 1]))\n",
            "(array([4, 4, 6, 7, 5, 1]), array([5, 4, 4, 6, 7, 1]))\n",
            "(array([2, 5, 5, 4, 4, 5, 1]), array([5, 2, 5, 5, 4, 4, 1]))\n",
            "(array([2, 6, 6, 7, 2, 2, 1]), array([2, 2, 6, 6, 7, 2, 1]))\n",
            "(array([5, 5, 4, 3, 6, 4, 6, 4, 4, 4, 6, 6, 4, 1]), array([4, 5, 5, 4, 3, 6, 4, 6, 4, 4, 4, 6, 6, 1]))\n",
            "(array([3, 6, 6, 2, 4, 6, 1]), array([6, 3, 6, 6, 2, 4, 1]))\n",
            "(array([7, 6, 6, 2, 7, 2, 1]), array([2, 7, 6, 6, 2, 7, 1]))\n",
            "(array([2, 5, 3, 7, 4, 5, 1]), array([5, 2, 5, 3, 7, 4, 1]))\n",
            "(array([4, 7, 6, 4, 6, 7, 6, 7, 5, 7, 5, 1]), array([5, 4, 7, 6, 4, 6, 7, 6, 7, 5, 7, 1]))\n",
            "(array([6, 7, 4, 3, 5, 6, 3, 4, 6, 3, 4, 6, 5, 1]), array([5, 6, 7, 4, 3, 5, 6, 3, 4, 6, 3, 4, 6, 1]))\n"
          ],
          "name": "stdout"
        }
      ]
    },
    {
      "cell_type": "code",
      "metadata": {
        "id": "P3vJ7onlNrkU",
        "colab_type": "code",
        "colab": {
          "base_uri": "https://localhost:8080/",
          "height": 208
        },
        "outputId": "bdcea5b5-2456-4363-9682-181db614cfa5"
      },
      "source": [
        "sequence = list(string.ascii_letters[:4])\n",
        "pseries = PeriodicSeriesDataset(sequence, 3000, 5, 25)\n",
        "loader = DataLoader(pseries, 1)\n",
        "\n",
        "model = Seq2Seq(len(pseries.word2id), 20).to(device)\n",
        "\n",
        "criterion = torch.nn.functional.cross_entropy\n",
        "optimizer = torch.optim.RMSprop(model.parameters())\n",
        "for epoch in range(10):\n",
        "  sum_criterion = 0\n",
        "  n_instance = 0\n",
        "  for x, y in loader:\n",
        "    x = x.to(device)\n",
        "    y = y.to(device)\n",
        "    n_instance += x.shape[0]\n",
        "    optimizer.zero_grad()\n",
        "    res = model(x.to(device))\n",
        "    loss = criterion(res, y)\n",
        "    loss.backward()\n",
        "    sum_criterion += loss.item()\n",
        "    \n",
        "    optimizer.step()\n",
        "\n",
        "  print(f'{epoch}: {sum_criterion/n_instance}')\n",
        "  #print(res.shape)\n",
        "\n"
      ],
      "execution_count": 26,
      "outputs": [
        {
          "output_type": "stream",
          "text": [
            "['a', 'b', 'c', 'd']\n",
            "0: 1.1465233557124932\n",
            "1: 1.084906201571226\n",
            "2: 1.003747613226374\n",
            "3: 0.9052569772948822\n",
            "4: 0.8723418232897917\n",
            "5: 0.8270123624453942\n",
            "6: 0.8303878551271434\n",
            "7: 0.8211065677969406\n",
            "8: 0.7931944092025515\n",
            "9: 0.8202313436104063\n"
          ],
          "name": "stdout"
        }
      ]
    },
    {
      "cell_type": "code",
      "metadata": {
        "id": "wAFlJO6kP2TE",
        "colab_type": "code",
        "colab": {
          "base_uri": "https://localhost:8080/",
          "height": 52
        },
        "outputId": "e8b10cf6-de09-44ff-ed56-aaece5406db7"
      },
      "source": [
        "periodic_dataset_val = PeriodicSeriesDataset(list(string.ascii_letters[:4]), 300, 5, 10)\n",
        "val_loader = DataLoader(periodic_dataset_val, 1)\n",
        "with torch.no_grad():\n",
        "  ncorrect = 0\n",
        "  nwrong = 0\n",
        "  for x, y in val_loader:\n",
        "    predict = model(x.to(device)).argmax(1)\n",
        "    if torch.equal(y, predict):\n",
        "      ncorrect += 1\n",
        "    else:\n",
        "      nwrong += 1\n",
        "print(f'{ncorrect}, {nwrong}')"
      ],
      "execution_count": 27,
      "outputs": [
        {
          "output_type": "stream",
          "text": [
            "['a', 'b', 'c', 'd']\n",
            "37, 263\n"
          ],
          "name": "stdout"
        }
      ]
    },
    {
      "cell_type": "code",
      "metadata": {
        "id": "nW2zDyJjgJgf",
        "colab_type": "code",
        "outputId": "6e723c61-40b5-4575-d02c-965600f30f9d",
        "colab": {
          "base_uri": "https://localhost:8080/",
          "height": 903
        }
      },
      "source": [
        "sequence = list(string.ascii_letters[:4])\n",
        "pseries = PeriodicSeriesDataset(sequence, 3000, 5, 25)\n",
        "loader = DataLoader(pseries, 1)\n",
        "\n",
        "model = AttenSeq2Seq(len(pseries.word2id), 128).to(device)\n",
        "\n",
        "criterion = torch.nn.functional.cross_entropy\n",
        "optimizer = torch.optim.Adam(model.parameters(), lr=5e-4)\n",
        "for epoch in range(50):\n",
        "  sum_criterion = 0\n",
        "  n_instance = 0\n",
        "  for x, y in loader:\n",
        "    n_instance += x.shape[0]\n",
        "    optimizer.zero_grad()\n",
        "    res = model(x.to(device))\n",
        "    loss = criterion(res, y.to(device))\n",
        "    loss.backward()\n",
        "    sum_criterion += loss.item()\n",
        "    \n",
        "    optimizer.step()\n",
        "\n",
        "  print(f'{epoch}: {sum_criterion/n_instance}')\n",
        "  #print(res.shape)\n"
      ],
      "execution_count": 41,
      "outputs": [
        {
          "output_type": "stream",
          "text": [
            "['a', 'b', 'c', 'd']\n",
            "0: 1.0160587167243162\n",
            "1: 0.6652138420602617\n",
            "2: 0.5581542482101165\n",
            "3: 0.48392349243724797\n",
            "4: 0.4288947877885609\n",
            "5: 0.3931740997308528\n",
            "6: 0.3680704598834224\n",
            "7: 0.343933614345459\n",
            "8: 0.32918605117152766\n",
            "9: 0.31000236260458164\n",
            "10: 0.297092416047979\n",
            "11: 0.28825675241621257\n",
            "12: 0.27383098454618116\n",
            "13: 0.25912842366799155\n",
            "14: 0.2540340957442128\n",
            "15: 0.24029351274432095\n",
            "16: 0.23060962693099615\n",
            "17: 0.22694099831506523\n",
            "18: 0.21709496056560193\n",
            "19: 0.21192820261729337\n",
            "20: 0.201755728360938\n",
            "21: 0.19749232836426153\n",
            "22: 0.1906861965133634\n",
            "23: 0.1832847593115035\n",
            "24: 0.1780596475661238\n",
            "25: 0.17259695795379934\n",
            "26: 0.16722349216807833\n",
            "27: 0.16349819274238397\n",
            "28: 0.1589059991533127\n",
            "29: 0.15151650747277157\n",
            "30: 0.148468290570123\n",
            "31: 0.14431009385613738\n",
            "32: 0.14210995170683835\n",
            "33: 0.13651415346922227\n",
            "34: 0.1330155870912129\n",
            "35: 0.12854019535057506\n",
            "36: 0.12647350587811146\n",
            "37: 0.12604638212449595\n",
            "38: 0.12045280929109606\n",
            "39: 0.11589173664028897\n",
            "40: 0.11827887420723782\n",
            "41: 0.11187306652833988\n",
            "42: 0.10831083180477274\n",
            "43: 0.10965678224278687\n",
            "44: 0.105084560807352\n",
            "45: 0.10257828048663466\n",
            "46: 0.09706567074569687\n",
            "47: 0.09762783922320559\n",
            "48: 0.09861496534885894\n",
            "49: 0.0961362480066955\n"
          ],
          "name": "stdout"
        }
      ]
    },
    {
      "cell_type": "code",
      "metadata": {
        "id": "p7J1vbzi5TV3",
        "colab_type": "code",
        "colab": {}
      },
      "source": [
        "model(\n",
        "    torch.LongTensor(\n",
        "    [[2, 3, 4, 5, 6, 7, 1],\n",
        "     [4, 5, 6, 7, 2, 3, 1]\n",
        "     ]).to(device)\n",
        ").argmax(dim=1)"
      ],
      "execution_count": 0,
      "outputs": []
    },
    {
      "cell_type": "code",
      "metadata": {
        "id": "jusInF-D5VkK",
        "colab_type": "code",
        "colab": {}
      },
      "source": [
        "model(\n",
        "    torch.LongTensor(\n",
        "    [[2, 3, 4, 5, 1],\n",
        "     [3, 4, 5, 6, 1]\n",
        "     ]).to(device)\n",
        ").argmax(dim=1)"
      ],
      "execution_count": 0,
      "outputs": []
    },
    {
      "cell_type": "code",
      "metadata": {
        "id": "9JZz7L1nP7kU",
        "colab_type": "code",
        "colab": {}
      },
      "source": [
        "model(\n",
        "    torch.LongTensor(\n",
        "    [[3, 5, 6, 2, 7, 4, 1],\n",
        "     [5, 6, 2, 3, 7, 4, 1]\n",
        "     ]).to(device)\n",
        ").argmax(dim=1)"
      ],
      "execution_count": 0,
      "outputs": []
    },
    {
      "cell_type": "code",
      "metadata": {
        "id": "LoRygRGJ8_If",
        "colab_type": "code",
        "colab": {
          "base_uri": "https://localhost:8080/",
          "height": 52
        },
        "outputId": "6be60ab7-fb7d-4599-92e0-6559395493ec"
      },
      "source": [
        "periodic_dataset_val = PeriodicSeriesDataset(list(string.ascii_letters[:4]), 300, 5, 10)\n",
        "val_loader = DataLoader(periodic_dataset_val, 1)\n",
        "with torch.no_grad():\n",
        "  ncorrect = 0\n",
        "  nwrong = 0\n",
        "  for x, y in val_loader:\n",
        "    predict = model(x.to(device)).argmax(1)\n",
        "    if torch.equal(y, predict):\n",
        "      ncorrect += 1\n",
        "    else:\n",
        "      nwrong += 1\n",
        "print(f'{ncorrect}, {nwrong}')"
      ],
      "execution_count": 45,
      "outputs": [
        {
          "output_type": "stream",
          "text": [
            "['a', 'b', 'c', 'd']\n",
            "271, 29\n"
          ],
          "name": "stdout"
        }
      ]
    }
  ]
}