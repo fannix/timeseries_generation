{
  "nbformat": 4,
  "nbformat_minor": 0,
  "metadata": {
    "colab": {
      "name": "attention.ipynb",
      "provenance": [],
      "collapsed_sections": [],
      "authorship_tag": "ABX9TyOZmq5lqN9kRDOYKXibOkqr",
      "include_colab_link": true
    },
    "kernelspec": {
      "name": "python3",
      "display_name": "Python 3"
    },
    "accelerator": "GPU"
  },
  "cells": [
    {
      "cell_type": "markdown",
      "metadata": {
        "id": "view-in-github",
        "colab_type": "text"
      },
      "source": [
        "<a href=\"https://colab.research.google.com/github/fannix/timeseries_generation/blob/master/attention.ipynb\" target=\"_parent\"><img src=\"https://colab.research.google.com/assets/colab-badge.svg\" alt=\"Open In Colab\"/></a>"
      ]
    },
    {
      "cell_type": "code",
      "metadata": {
        "id": "dtSH_ivjqXHn",
        "colab_type": "code",
        "outputId": "952efc82-f4b2-45ae-c074-e4afd4b4d275",
        "colab": {
          "base_uri": "https://localhost:8080/",
          "height": 225
        }
      },
      "source": [
        "import numpy as np\n",
        "import random\n",
        "import torch\n",
        "\n",
        "class PeriodicSeriesDataset(torch.utils.data.Dataset):\n",
        "  def __init__(self, sequence):\n",
        "    \n",
        "    self.sequence = sequence\n",
        "    self.start_symbol = \"SOS\"\n",
        "    self.end_symbol = \"EOS\"\n",
        "    self.x = []\n",
        "    self.y = []\n",
        "    self.id2word = {i+2: w for (i, w) in enumerate(sequence)}\n",
        "    self.id2word[0] = self.start_symbol\n",
        "    self.id2word[1] = self.end_symbol\n",
        "    self.word2id = {w: i for (i, w) in self.id2word.items()}\n",
        "    seq2id = np.array([self.word2id[w] for w in sequence])\n",
        "    print(sequence)\n",
        "    place_holder = np.zeros(len(sequence) + 2, dtype=np.int)\n",
        "    place_holder[-1] = 1\n",
        "    for i in range(len(sequence)):\n",
        "      place_holder[1:-1] = np.roll(seq2id, i)\n",
        "      self.x.append(place_holder.copy())\n",
        "      place_holder[1:-1] = np.roll(seq2id, i+1)\n",
        "      self.y.append(place_holder.copy())\n",
        "      \n",
        "  def __len__(self):\n",
        "    return len(self.id2word) - 2\n",
        "\n",
        "  def onehot_seq(self, word_seq):\n",
        "    num_seq = [self.word2id[w] for w in word_seq]\n",
        "    return self.onehot_num(num_seq)\n",
        "  \n",
        "  def onehot_num(self, num_seq):\n",
        "    y = torch.LongTensor(num_seq).view(-1, 1)\n",
        "    onehot = torch.FloatTensor(len(num_seq), len(self.word2id))\n",
        "    onehot.zero_()\n",
        "    onehot.scatter_(1, y, 1)\n",
        "    return onehot\n",
        "  \n",
        "  def onecold_num(self, tensor):\n",
        "    dim_n = tensor.shape[0]\n",
        "    dim_c = tensor.shape[1]\n",
        "    onecold = tensor.argmax(dim=1)\n",
        "    return onecold\n",
        "\n",
        "  def onecold_seq(self, tensor):\n",
        "    onecold = self.onecold_num(tensor)\n",
        "    print(onecold)\n",
        "    return [self.id2word[i.item()] for i in onecold]\n",
        "\n",
        "  def __getitem__(self, index):\n",
        "    return  self.x[index], self.y[index]\n",
        "\n",
        "import string\n",
        "sequence = list(string.ascii_letters[:6])\n",
        "pseries = PeriodicSeriesDataset(sequence)\n",
        "for i in range(len(pseries)):\n",
        "  print(pseries[i])\n",
        "\n",
        "onehot = pseries.onehot_seq(['a', 'b', 'c'])\n",
        "print(onehot)\n",
        "onecold = pseries.onecold_seq(onehot)\n",
        "print(onecold)"
      ],
      "execution_count": 1,
      "outputs": [
        {
          "output_type": "stream",
          "text": [
            "['a', 'b', 'c', 'd', 'e', 'f']\n",
            "(array([0, 2, 3, 4, 5, 6, 7, 1]), array([0, 7, 2, 3, 4, 5, 6, 1]))\n",
            "(array([0, 7, 2, 3, 4, 5, 6, 1]), array([0, 6, 7, 2, 3, 4, 5, 1]))\n",
            "(array([0, 6, 7, 2, 3, 4, 5, 1]), array([0, 5, 6, 7, 2, 3, 4, 1]))\n",
            "(array([0, 5, 6, 7, 2, 3, 4, 1]), array([0, 4, 5, 6, 7, 2, 3, 1]))\n",
            "(array([0, 4, 5, 6, 7, 2, 3, 1]), array([0, 3, 4, 5, 6, 7, 2, 1]))\n",
            "(array([0, 3, 4, 5, 6, 7, 2, 1]), array([0, 2, 3, 4, 5, 6, 7, 1]))\n",
            "tensor([[0., 0., 1., 0., 0., 0., 0., 0.],\n",
            "        [0., 0., 0., 1., 0., 0., 0., 0.],\n",
            "        [0., 0., 0., 0., 1., 0., 0., 0.]])\n",
            "tensor([2, 3, 4])\n",
            "['a', 'b', 'c']\n"
          ],
          "name": "stdout"
        }
      ]
    },
    {
      "cell_type": "code",
      "metadata": {
        "id": "AWclGfe-E4qQ",
        "colab_type": "code",
        "outputId": "e2816105-1e50-4ac2-8e8e-f89e57d588da",
        "colab": {
          "base_uri": "https://localhost:8080/",
          "height": 104
        }
      },
      "source": [
        "batch_size = 5\n",
        "nb_digits = 10\n",
        "y = torch.LongTensor(batch_size,1).random_() % nb_digits\n",
        "y\n",
        "y_onehot = torch.FloatTensor(batch_size, nb_digits)\n",
        "y_onehot.zero_()\n",
        "y_onehot.scatter_(1, y, 1)"
      ],
      "execution_count": 2,
      "outputs": [
        {
          "output_type": "execute_result",
          "data": {
            "text/plain": [
              "tensor([[0., 0., 0., 0., 0., 0., 1., 0., 0., 0.],\n",
              "        [0., 1., 0., 0., 0., 0., 0., 0., 0., 0.],\n",
              "        [0., 0., 0., 1., 0., 0., 0., 0., 0., 0.],\n",
              "        [0., 0., 0., 0., 0., 0., 0., 0., 0., 1.],\n",
              "        [0., 0., 0., 0., 0., 1., 0., 0., 0., 0.]])"
            ]
          },
          "metadata": {
            "tags": []
          },
          "execution_count": 2
        }
      ]
    },
    {
      "cell_type": "code",
      "metadata": {
        "id": "c8XAH9fUGPQl",
        "colab_type": "code",
        "colab": {}
      },
      "source": [
        "?y_onehot.scatter_"
      ],
      "execution_count": 0,
      "outputs": []
    },
    {
      "cell_type": "code",
      "metadata": {
        "id": "hq-knOM4rWPe",
        "colab_type": "code",
        "colab": {}
      },
      "source": [
        "device = torch.device(\"cuda\" if torch.cuda.is_available() else \"cpu\")"
      ],
      "execution_count": 0,
      "outputs": []
    },
    {
      "cell_type": "code",
      "metadata": {
        "id": "jU7xzLWwqq9W",
        "colab_type": "code",
        "colab": {
          "base_uri": "https://localhost:8080/",
          "height": 191
        },
        "outputId": "802c1830-1bfe-4220-b0d0-2d17509a536a"
      },
      "source": [
        "import torch\n",
        "from torch import nn\n",
        "\n",
        "from torch.utils.data import DataLoader\n",
        "\n",
        "\n",
        "class DecoderRNN(nn.Module):\n",
        "  def __init__(self, hidden_size, output_size):\n",
        "    super().__init__()\n",
        "    self.hidden_size = hidden_size\n",
        "\n",
        "    self.embedding = nn.Embedding(output_size, hidden_size)\n",
        "    self.lstm = nn.LSTM(hidden_size, hidden_size, batch_first=True)\n",
        "    self.out = nn.Linear(hidden_size, output_size)\n",
        "\n",
        "  def forward(self, input, hc):\n",
        "    output = self.embedding(input)\n",
        "    output = torch.relu(output)\n",
        "    output, (hidden, cell) = self.lstm(output, hc)\n",
        "    #print(output.shape)\n",
        "    output = self.out(output)\n",
        "    return output, (hidden, cell)\n",
        "\n",
        "  def init_hidden(self, batch_size):\n",
        "    return (torch.zeros(1, batch_size, self.hidden_size, device=device), \n",
        "            torch.zeros(1, batch_size, self.hidden_size, device=device))\n",
        "\n",
        "\n",
        "class EncoderRNN(nn.Module):\n",
        "  def __init__(self, input_size, hidden_size):\n",
        "    super().__init__()\n",
        "    self.hidden_size = hidden_size\n",
        "\n",
        "    self.embedding = nn.Embedding(input_size, hidden_size)\n",
        "    self.lstm = nn.LSTM(hidden_size, hidden_size, batch_first=True)\n",
        "\n",
        "  def forward(self, input, hc):\n",
        "    embedded = self.embedding(input)\n",
        "    output = embedded\n",
        "    output, (hidden, cell) = self.lstm(output, hc)\n",
        "    return output, (hidden, cell)\n",
        "\n",
        "  def init_hidden(self, batch_size):\n",
        "    return (torch.zeros(1, batch_size, self.hidden_size, device=device),\n",
        "            torch.zeros(1, batch_size, self.hidden_size, device=device))\n",
        "\n",
        "class Seq2Seq(nn.Module):\n",
        "  def __init__(self, input_size, hidden_size):\n",
        "    super().__init__()\n",
        "    self.encoder = EncoderRNN(input_size, hidden_size)\n",
        "    self.decoder = DecoderRNN(hidden_size, input_size)\n",
        "  \n",
        "  def forward(self, input, expected = None):\n",
        "    batch_size = input.shape[0]\n",
        "    h0, c0 = self.encoder.init_hidden(batch_size)\n",
        "    encode_output, (encode_hidden, encode_cell) = self.encoder(input, (h0, c0))\n",
        "\n",
        "    inp = torch.zeros(batch_size, dtype=torch.long, device=device)\n",
        "    inp = inp.view(batch_size, 1)\n",
        "    h, c = encode_hidden, encode_cell\n",
        "\n",
        "    #print(inp.shape)\n",
        "    output_list = []\n",
        "    while True:\n",
        "      if expected == None:\n",
        "        out, (h, c) = self.decoder(inp, (h, c))\n",
        "      # teacher forcing\n",
        "      else:\n",
        "        pass\n",
        "      output_list.append(out.squeeze(1))\n",
        "      if len(output_list) == input.shape[1] - 1:\n",
        "        break\n",
        "    # print(output_list[0].shape)\n",
        "    return torch.stack(output_list, 2)\n",
        "\n",
        "loader = DataLoader(pseries, 4)\n",
        "\n",
        "model = Seq2Seq(len(pseries.word2id), 20).to(device)\n",
        "\n",
        "criterion = torch.nn.functional.cross_entropy\n",
        "optimizer = torch.optim.RMSprop(model.parameters())\n",
        "for epoch in range(10):\n",
        "  sum_criterion = 0\n",
        "  n_instance = 0\n",
        "  for x, y in loader:\n",
        "    x = x.to(device)\n",
        "    y = y.to(device)\n",
        "    n_instance += x.shape[0]\n",
        "    optimizer.zero_grad()\n",
        "    res = model(x.to(device))\n",
        "    loss = criterion(res, y[:, 1:])\n",
        "    loss.backward()\n",
        "    sum_criterion += loss.item()\n",
        "    \n",
        "    optimizer.step()\n",
        "\n",
        "  print(f'{epoch}: {sum_criterion/n_instance}')\n",
        "  #print(res.shape)\n",
        "\n"
      ],
      "execution_count": 10,
      "outputs": [
        {
          "output_type": "stream",
          "text": [
            "0: 0.6856725215911865\n",
            "1: 0.7008873224258423\n",
            "2: 0.6543954809506735\n",
            "3: 0.633760670820872\n",
            "4: 0.6333734194437662\n",
            "5: 0.617169717947642\n",
            "6: 0.6080129941304525\n",
            "7: 0.5717541376749674\n",
            "8: 0.614373524983724\n",
            "9: 0.5609776377677917\n"
          ],
          "name": "stdout"
        }
      ]
    },
    {
      "cell_type": "code",
      "metadata": {
        "id": "vUqDzcBJMkfZ",
        "colab_type": "code",
        "colab": {}
      },
      "source": [
        "model(\n",
        "    torch.LongTensor(\n",
        "    [[0, 2, 3, 4, 5, 6, 7, 1],\n",
        "     [0, 4, 5, 6, 7, 2, 3, 1]\n",
        "     ])\n",
        ").argmax(dim=1)"
      ],
      "execution_count": 0,
      "outputs": []
    },
    {
      "cell_type": "code",
      "metadata": {
        "id": "zhQsevTDMy8C",
        "colab_type": "code",
        "colab": {}
      },
      "source": [
        "model(\n",
        "    torch.LongTensor(\n",
        "    [[0, 2, 3, 4, 5, 6, 1],\n",
        "     [0, 4, 5, 6, 7, 2, 1]\n",
        "     ])\n",
        ").argmax(dim=1)"
      ],
      "execution_count": 0,
      "outputs": []
    },
    {
      "cell_type": "code",
      "metadata": {
        "colab_type": "code",
        "outputId": "87d61a3b-a408-4d49-b2fe-d9547056a060",
        "id": "oWy3Fawz7RGM",
        "colab": {
          "base_uri": "https://localhost:8080/",
          "height": 52
        }
      },
      "source": [
        "model(\n",
        "    torch.LongTensor(\n",
        "    [[0, 3, 5, 6, 2, 7, 4, 1],\n",
        "     [0, 5, 6, 2, 3, 7, 4, 1]\n",
        "     ]).to(device)\n",
        ").argmax(dim=1)"
      ],
      "execution_count": 14,
      "outputs": [
        {
          "output_type": "execute_result",
          "data": {
            "text/plain": [
              "tensor([[6, 6, 6, 6, 7, 7, 7],\n",
              "        [5, 5, 5, 5, 5, 7, 7]], device='cuda:0')"
            ]
          },
          "metadata": {
            "tags": []
          },
          "execution_count": 14
        }
      ]
    },
    {
      "cell_type": "code",
      "metadata": {
        "id": "Wcs7mqlYliy3",
        "colab_type": "code",
        "colab": {}
      },
      "source": [
        "criterion(res, y[:, 1:])"
      ],
      "execution_count": 0,
      "outputs": []
    },
    {
      "cell_type": "code",
      "metadata": {
        "id": "44c0tMmZ_bf3",
        "colab_type": "code",
        "colab": {}
      },
      "source": [
        "y[:, 1:].shape"
      ],
      "execution_count": 0,
      "outputs": []
    },
    {
      "cell_type": "code",
      "metadata": {
        "id": "2uFMpTxe_46M",
        "colab_type": "code",
        "colab": {}
      },
      "source": [
        "res.shape"
      ],
      "execution_count": 0,
      "outputs": []
    },
    {
      "cell_type": "code",
      "metadata": {
        "id": "QpobzVRI_NZJ",
        "colab_type": "code",
        "colab": {}
      },
      "source": [
        "criterion(torch.rand((1, 8, 7)), y[1:, 1:])"
      ],
      "execution_count": 0,
      "outputs": []
    },
    {
      "cell_type": "code",
      "metadata": {
        "id": "Mb-jhDJ-0Cpy",
        "colab_type": "code",
        "colab": {}
      },
      "source": [
        "len(pseries)"
      ],
      "execution_count": 0,
      "outputs": []
    },
    {
      "cell_type": "code",
      "metadata": {
        "id": "JxBs9aSd83Dl",
        "colab_type": "code",
        "colab": {}
      },
      "source": [
        "input = torch.randn(4, 8, requires_grad=True)\n",
        "target = torch.randint(8, (4,), dtype=torch.int64)\n",
        "\n",
        "torch.nn.functional.cross_entropy(input, target)"
      ],
      "execution_count": 0,
      "outputs": []
    },
    {
      "cell_type": "code",
      "metadata": {
        "id": "nEgPPwr0f5fa",
        "colab_type": "code",
        "colab": {}
      },
      "source": [
        ""
      ],
      "execution_count": 0,
      "outputs": []
    },
    {
      "cell_type": "markdown",
      "metadata": {
        "id": "Dk0GKtWAf9IM",
        "colab_type": "text"
      },
      "source": [
        "Attention LSTM Seq2Seq"
      ]
    },
    {
      "cell_type": "code",
      "metadata": {
        "id": "XGOZD16V9TAU",
        "colab_type": "code",
        "outputId": "d736f577-d422-4d19-918e-2b9d2612a36c",
        "colab": {
          "base_uri": "https://localhost:8080/",
          "height": 34
        }
      },
      "source": [
        "from torch.utils import data\n",
        "from random import choice, randrange\n",
        "import numpy as np\n",
        "class ReverseDataset(data.Dataset):\n",
        "    \"\"\"\n",
        "    Inspired from https://talbaumel.github.io/blog/attention/\n",
        "    \"\"\"\n",
        "    def __init__(self, min_length=5, max_length=20, type='train'):\n",
        "        self.SOS = \"<s>\"  # id 0\n",
        "        self.EOS = \"</s>\" # id 1\n",
        "        self.characters = list(\"abcd\")\n",
        "        self.int2char = list(self.characters)\n",
        "        self.char2int = {c: i+2 for i, c in enumerate(self.characters)}\n",
        "        self.VOCAB_SIZE = len(self.characters)\n",
        "        self.min_length = min_length\n",
        "        self.max_length = max_length\n",
        "        if type=='train':\n",
        "            self.set = [self._sample() for _ in range(3000)]\n",
        "        else:\n",
        "            self.set = [self._sample() for _ in range(300)]\n",
        "\n",
        "    def __len__(self):\n",
        "        return len(self.set)\n",
        "\n",
        "    def __getitem__(self, item):\n",
        "        return self.set[item]\n",
        "\n",
        "    def _sample(self):\n",
        "        if self.min_length != self.max_length:\n",
        "            random_length = randrange(self.min_length, self.max_length)# Pick a random length\n",
        "        else:\n",
        "            random_length = self.min_length\n",
        "        random_char_list = [choice(self.characters[:-1]) for _ in range(random_length)]  # Pick random chars\n",
        "        random_string = ''.join(random_char_list)\n",
        "        a = np.array([self.char2int.get(x) for x in random_string] + [1])\n",
        "        b = np.array([self.char2int.get(x) for x in random_string[::-1]] + [1]) # Return the random string and its reverse\n",
        "        #x = np.zeros((random_length, self.VOCAB_SIZE))\n",
        "        #x[np.arange(random_length), a-2] = 1\n",
        "        return a, b\n",
        "\n",
        "reverse_dataset = ReverseDataset(4, 4)\n",
        "reverse_dataset[0]"
      ],
      "execution_count": 26,
      "outputs": [
        {
          "output_type": "execute_result",
          "data": {
            "text/plain": [
              "(array([3, 3, 4, 2, 1]), array([2, 4, 3, 3, 1]))"
            ]
          },
          "metadata": {
            "tags": []
          },
          "execution_count": 26
        }
      ]
    },
    {
      "cell_type": "code",
      "metadata": {
        "id": "U8EV27NZUuR_",
        "colab_type": "code",
        "colab": {}
      },
      "source": [
        "import torch\n",
        "device = torch.device(\"cuda\" if torch.cuda.is_available() else \"cpu\")\n",
        "device = torch.device(\"cpu\")"
      ],
      "execution_count": 0,
      "outputs": []
    },
    {
      "cell_type": "code",
      "metadata": {
        "colab_type": "code",
        "id": "5-o01AZGf6kv",
        "colab": {}
      },
      "source": [
        "import torch\n",
        "from torch import nn\n",
        "import math\n",
        "\n",
        "from torch.utils.data import DataLoader\n",
        "\n",
        "class AttenEncoderRNN(nn.Module):\n",
        "  def __init__(self, input_size, hidden_size):\n",
        "    super().__init__()\n",
        "    self.hidden_size = hidden_size\n",
        "\n",
        "    self.embedding = nn.Embedding(input_size, hidden_size)\n",
        "    self.lstm = nn.LSTM(hidden_size, hidden_size, batch_first=True)\n",
        "\n",
        "  def forward(self, input, hc):\n",
        "    embedded = self.embedding(input)\n",
        "    output = embedded\n",
        "    output, (hidden, cell) = self.lstm(output, hc)\n",
        "    return output, (hidden, cell)\n",
        "\n",
        "  def init_hidden(self, batch_size):\n",
        "    return (torch.zeros(1, batch_size, self.hidden_size, device=device),\n",
        "            torch.zeros(1, batch_size, self.hidden_size, device=device))\n",
        "\n",
        "class AttenDecoderRNN(nn.Module):\n",
        "  def __init__(self, hidden_size, output_size):\n",
        "    super().__init__()\n",
        "    self.hidden_size = hidden_size\n",
        "\n",
        "    self.embedding = nn.Embedding(output_size, hidden_size)\n",
        "    self.lstm = nn.LSTM(hidden_size, hidden_size, batch_first=True)\n",
        "    self.out = nn.Linear(hidden_size, output_size)\n",
        "    self.combine = nn.Linear(2 * hidden_size, hidden_size)\n",
        "\n",
        "  def forward(self, input, hc, encode_out):\n",
        "    embed = self.embedding(input)\n",
        "    attn = attention(embed, encode_out, encode_out)\n",
        "    comb = self.combine(torch.cat([embed, attn[0]], -1))\n",
        "    output = torch.relu(comb)\n",
        "    output, (hidden, cell) = self.lstm(output, hc)\n",
        "    #print(output.shape)\n",
        "    output = self.out(output)\n",
        "    return output, (hidden, cell)\n",
        "\n",
        "  def init_hidden(self, batch_size):\n",
        "    return (torch.zeros(1, batch_size, self.hidden_size, device=device), \n",
        "            torch.zeros(1, batch_size, self.hidden_size, device=device))\n",
        "\n",
        "\n",
        "def attention(query, key, value, mask=None, dropout=None):\n",
        "    \"\"\"Compute 'Scaled Dot Product Attention\n",
        "    query: N x 1 x D\n",
        "    key: N x T x D\n",
        "    value: N x T x D. key and value are the same. query, key and value are the same for self attention\n",
        "    scores: N x 1 x T\n",
        "    p_attn: N x 1 x T\n",
        "    result: N x 1 x D\n",
        "    \n",
        "    \"\"\"\n",
        "    d_k = query.size(-1)\n",
        "    scores = torch.matmul(query, key.transpose(-2, -1)) \\\n",
        "             / math.sqrt(d_k)\n",
        "    if mask is not None:\n",
        "        scores = scores.masked_fill(mask == 0, -1e9)\n",
        "    p_attn = torch.nn.functional.softmax(scores, dim = -1)\n",
        "    if dropout is not None:\n",
        "        p_attn = dropout(p_attn)\n",
        "    return torch.matmul(p_attn, value), p_attn\n",
        "\n",
        "class AttenSeq2Seq(nn.Module):\n",
        "  def __init__(self, input_size, hidden_size):\n",
        "    super().__init__()\n",
        "    self.encoder = AttenEncoderRNN(input_size, hidden_size)\n",
        "    self.decoder = AttenDecoderRNN(hidden_size, input_size)\n",
        "  \n",
        "  def forward(self, input, expected = None):\n",
        "    batch_size = input.shape[0]\n",
        "    h0, c0 = self.encoder.init_hidden(batch_size)\n",
        "    encode_output, (encode_hidden, encode_cell) = self.encoder(input, (h0, c0))\n",
        "    # 0 is the start_symbol\n",
        "    inp = torch.zeros(batch_size, dtype=torch.long, device=device)\n",
        "    inp = inp.view(batch_size, 1)\n",
        "    h, c = encode_hidden, encode_cell\n",
        "    #print(inp.shape)\n",
        "    output_list = []\n",
        "    while True:\n",
        "      if expected == None:\n",
        "        out, (h, c) = self.decoder(inp, (h, c), encode_output)\n",
        "      # teacher forcing\n",
        "      else:\n",
        "        pass\n",
        "      output_list.append(out.squeeze(1))\n",
        "      if len(output_list) == input.shape[1]:\n",
        "        break\n",
        "    # print(output_list[0].shape)\n",
        "    return torch.stack(output_list, 2)\n",
        "\n"
      ],
      "execution_count": 0,
      "outputs": []
    },
    {
      "cell_type": "code",
      "metadata": {
        "id": "_bO2NLMp9XM3",
        "colab_type": "code",
        "outputId": "2938fda0-3028-4ff6-c93d-4e3e4632a42c",
        "colab": {
          "base_uri": "https://localhost:8080/",
          "height": 191
        }
      },
      "source": [
        "reverse_dataset = ReverseDataset(3, 10)\n",
        "\n",
        "loader = DataLoader(reverse_dataset, 1)\n",
        "\n",
        "model = AttenSeq2Seq(len(reverse_dataset.char2int) + 2, 128).to(device)\n",
        "\n",
        "criterion = torch.nn.functional.cross_entropy\n",
        "optimizer = torch.optim.Adam(model.parameters())\n",
        "for epoch in range(10):\n",
        "  sum_criterion = 0\n",
        "  n_instance = 0\n",
        "  for x, y in loader:\n",
        "    n_instance += x.shape[0]\n",
        "    optimizer.zero_grad()\n",
        "    res = model(x.to(device))\n",
        "    loss = criterion(res, y.to(device))\n",
        "    loss.backward()\n",
        "    sum_criterion += loss.item()\n",
        "    \n",
        "    optimizer.step()\n",
        "\n",
        "  print(f'{epoch}: {sum_criterion/n_instance}')"
      ],
      "execution_count": 39,
      "outputs": [
        {
          "output_type": "stream",
          "text": [
            "0: 0.24724922055195686\n",
            "1: 0.06262208303797343\n",
            "2: 0.041106641849943726\n",
            "3: 0.0277314139242244\n",
            "4: 0.01948141407735587\n",
            "5: 0.017707403165288346\n",
            "6: 0.013074126324757457\n",
            "7: 0.010106217944389755\n",
            "8: 0.009920213843760071\n",
            "9: 0.008330162984554893\n"
          ],
          "name": "stdout"
        }
      ]
    },
    {
      "cell_type": "code",
      "metadata": {
        "id": "-d9BRd4pSA4M",
        "colab_type": "code",
        "outputId": "42721391-4c00-4352-ff30-9082ae5e264d",
        "colab": {
          "base_uri": "https://localhost:8080/",
          "height": 69
        }
      },
      "source": [
        "print(y)\n",
        "\n",
        "res = model(x.to(device))\n",
        "\n",
        "print(res.argmax(dim=1))\n",
        "\n",
        "print(torch.sum(res.argmax(dim=1) == y.to(device)) / float(res.shape[0] * res.shape[2]))"
      ],
      "execution_count": 42,
      "outputs": [
        {
          "output_type": "stream",
          "text": [
            "tensor([[4, 4, 3, 4, 2, 2, 3, 2, 1]])\n",
            "tensor([[4, 4, 3, 4, 2, 2, 3, 2, 1]])\n",
            "tensor(1.)\n"
          ],
          "name": "stdout"
        }
      ]
    },
    {
      "cell_type": "code",
      "metadata": {
        "id": "P7YM2PSETM1B",
        "colab_type": "code",
        "outputId": "ab040bcf-6fcc-4803-b3ca-e5f4c63c8dd2",
        "colab": {
          "base_uri": "https://localhost:8080/",
          "height": 52
        }
      },
      "source": [
        "a = torch.LongTensor([[2, 3, 4, 2, 1], [4, 3, 2, 3, 1]]).to(device)\n",
        "model(a).argmax(1)"
      ],
      "execution_count": 44,
      "outputs": [
        {
          "output_type": "execute_result",
          "data": {
            "text/plain": [
              "tensor([[2, 4, 3, 2, 1],\n",
              "        [3, 2, 3, 4, 1]])"
            ]
          },
          "metadata": {
            "tags": []
          },
          "execution_count": 44
        }
      ]
    },
    {
      "cell_type": "code",
      "metadata": {
        "id": "p_1e6i9IwZTN",
        "colab_type": "code",
        "colab": {
          "base_uri": "https://localhost:8080/",
          "height": 34
        },
        "outputId": "c281e931-7cca-4e43-8d1b-b817405a2f7e"
      },
      "source": [
        "reverse_dataset_val = ReverseDataset(3, 10, type=\"test\")\n",
        "val_loader = DataLoader(reverse_dataset_val, 1)\n",
        "with torch.no_grad():\n",
        "  ncorrect = 0\n",
        "  nwrong = 0\n",
        "  for x, y in val_loader:\n",
        "    predict = model(x.to(device)).argmax(1)\n",
        "    if torch.equal(y, predict):\n",
        "      ncorrect += 1\n",
        "    else:\n",
        "      nwrong += 1\n",
        "print(f'{ncorrect}, {nwrong}')\n"
      ],
      "execution_count": 57,
      "outputs": [
        {
          "output_type": "stream",
          "text": [
            "296, 4\n"
          ],
          "name": "stdout"
        }
      ]
    },
    {
      "cell_type": "markdown",
      "metadata": {
        "id": "eUZa5cpxTF8s",
        "colab_type": "text"
      },
      "source": [
        "Test PeriodicDataset"
      ]
    },
    {
      "cell_type": "code",
      "metadata": {
        "id": "nW2zDyJjgJgf",
        "colab_type": "code",
        "outputId": "a63439c1-8b35-4147-ace5-e071664bc3b4",
        "colab": {
          "base_uri": "https://localhost:8080/",
          "height": 885
        }
      },
      "source": [
        "loader = DataLoader(pseries, 16)\n",
        "\n",
        "model = AttenSeq2Seq(len(pseries.word2id), 32).to(device)\n",
        "\n",
        "criterion = torch.nn.functional.cross_entropy\n",
        "optimizer = torch.optim.RMSprop(model.parameters())\n",
        "for epoch in range(50):\n",
        "  sum_criterion = 0\n",
        "  n_instance = 0\n",
        "  for x, y in loader:\n",
        "    n_instance += x.shape[0]\n",
        "    optimizer.zero_grad()\n",
        "    res = model(x.to(device))\n",
        "    loss = criterion(res, y[:, 1:].to(device))\n",
        "    loss.backward()\n",
        "    sum_criterion += loss.item()\n",
        "    \n",
        "    optimizer.step()\n",
        "\n",
        "  print(f'{epoch}: {sum_criterion/n_instance}')\n",
        "  #print(res.shape)\n"
      ],
      "execution_count": 22,
      "outputs": [
        {
          "output_type": "stream",
          "text": [
            "0: 0.34284647305806476\n",
            "1: 0.33279256025950116\n",
            "2: 0.364102562268575\n",
            "3: 0.35499246915181476\n",
            "4: 0.3365637461344401\n",
            "5: 0.3467588424682617\n",
            "6: 0.32402437925338745\n",
            "7: 0.31968875726064044\n",
            "8: 0.32248131434122723\n",
            "9: 0.3161206046740214\n",
            "10: 0.3083093762397766\n",
            "11: 0.29815038045247394\n",
            "12: 0.29484466711680096\n",
            "13: 0.3263248602549235\n",
            "14: 0.2754681309064229\n",
            "15: 0.24778000513712564\n",
            "16: 0.2203899621963501\n",
            "17: 0.26362089316050213\n",
            "18: 0.2042824625968933\n",
            "19: 0.17681060234705606\n",
            "20: 0.18516016006469727\n",
            "21: 0.2149167855580648\n",
            "22: 0.14177588621775308\n",
            "23: 0.11447614431381226\n",
            "24: 0.09494992097218831\n",
            "25: 0.07967820266882579\n",
            "26: 0.07398969928423564\n",
            "27: 0.11055134733517964\n",
            "28: 0.07617683211962382\n",
            "29: 0.08176023761431377\n",
            "30: 0.13822277386983237\n",
            "31: 0.09190871318181355\n",
            "32: 0.1032823920249939\n",
            "33: 0.08659808834393819\n",
            "34: 0.045922686656316124\n",
            "35: 0.039204212526480355\n",
            "36: 0.0348358949025472\n",
            "37: 0.03247294326623281\n",
            "38: 0.038141533732414246\n",
            "39: 0.04629839460055033\n",
            "40: 0.039137559632460274\n",
            "41: 0.02876174698273341\n",
            "42: 0.024613305926322937\n",
            "43: 0.022064775228500366\n",
            "44: 0.01985955486694972\n",
            "45: 0.01817602167526881\n",
            "46: 0.01672133555014928\n",
            "47: 0.015482661624749502\n",
            "48: 0.014426030218601227\n",
            "49: 0.013589256753524145\n"
          ],
          "name": "stdout"
        }
      ]
    },
    {
      "cell_type": "code",
      "metadata": {
        "id": "p7J1vbzi5TV3",
        "colab_type": "code",
        "outputId": "f8d2ca76-4278-4ef2-c5ff-2dbe954faf2d",
        "colab": {
          "base_uri": "https://localhost:8080/",
          "height": 52
        }
      },
      "source": [
        "model(\n",
        "    torch.LongTensor(\n",
        "    [[0, 2, 3, 4, 5, 6, 7, 1],\n",
        "     [0, 4, 5, 6, 7, 2, 3, 1]\n",
        "     ]).to(device)\n",
        ").argmax(dim=1)"
      ],
      "execution_count": 23,
      "outputs": [
        {
          "output_type": "execute_result",
          "data": {
            "text/plain": [
              "tensor([[7, 2, 3, 4, 5, 6, 1],\n",
              "        [3, 4, 5, 6, 7, 2, 1]], device='cuda:0')"
            ]
          },
          "metadata": {
            "tags": []
          },
          "execution_count": 23
        }
      ]
    },
    {
      "cell_type": "code",
      "metadata": {
        "id": "jusInF-D5VkK",
        "colab_type": "code",
        "outputId": "c053c9c7-d7ef-441d-8916-80793a7d404c",
        "colab": {
          "base_uri": "https://localhost:8080/",
          "height": 52
        }
      },
      "source": [
        "model(\n",
        "    torch.LongTensor(\n",
        "    [[0, 2, 3, 4, 5, 1],\n",
        "     [0, 3, 4, 5, 6, 1]\n",
        "     ]).to(device)\n",
        ").argmax(dim=1)"
      ],
      "execution_count": 24,
      "outputs": [
        {
          "output_type": "execute_result",
          "data": {
            "text/plain": [
              "tensor([[5, 6, 7, 2, 3],\n",
              "        [6, 7, 2, 3, 4]], device='cuda:0')"
            ]
          },
          "metadata": {
            "tags": []
          },
          "execution_count": 24
        }
      ]
    },
    {
      "cell_type": "code",
      "metadata": {
        "id": "9JZz7L1nP7kU",
        "colab_type": "code",
        "outputId": "2f9e80be-5c61-4b07-ece3-b65b75885e8b",
        "colab": {
          "base_uri": "https://localhost:8080/",
          "height": 52
        }
      },
      "source": [
        "model(\n",
        "    torch.LongTensor(\n",
        "    [[0, 3, 5, 6, 2, 7, 4, 1],\n",
        "     [0, 5, 6, 2, 3, 7, 4, 1]\n",
        "     ]).to(device)\n",
        ").argmax(dim=1)"
      ],
      "execution_count": 25,
      "outputs": [
        {
          "output_type": "execute_result",
          "data": {
            "text/plain": [
              "tensor([[4, 5, 6, 7, 2, 3, 1],\n",
              "        [4, 5, 6, 7, 2, 3, 1]], device='cuda:0')"
            ]
          },
          "metadata": {
            "tags": []
          },
          "execution_count": 25
        }
      ]
    }
  ]
}