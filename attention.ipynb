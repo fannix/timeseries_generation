{
  "nbformat": 4,
  "nbformat_minor": 0,
  "metadata": {
    "colab": {
      "name": "attention.ipynb",
      "provenance": [],
      "collapsed_sections": [],
      "authorship_tag": "ABX9TyMYJSgc9zL1raQq8y2V24DS",
      "include_colab_link": true
    },
    "kernelspec": {
      "name": "python3",
      "display_name": "Python 3"
    }
  },
  "cells": [
    {
      "cell_type": "markdown",
      "metadata": {
        "id": "view-in-github",
        "colab_type": "text"
      },
      "source": [
        "<a href=\"https://colab.research.google.com/github/fannix/timeseries_generation/blob/master/attention.ipynb\" target=\"_parent\"><img src=\"https://colab.research.google.com/assets/colab-badge.svg\" alt=\"Open In Colab\"/></a>"
      ]
    },
    {
      "cell_type": "code",
      "metadata": {
        "id": "dtSH_ivjqXHn",
        "colab_type": "code",
        "colab": {
          "base_uri": "https://localhost:8080/",
          "height": 225
        },
        "outputId": "8a7d9529-8092-43d7-f17c-3cc70f8aba3c"
      },
      "source": [
        "import numpy as np\n",
        "import random\n",
        "import torch\n",
        "\n",
        "class PeriodicSeriesDataset(torch.utils.data.Dataset):\n",
        "  def __init__(self, sequence):\n",
        "    \n",
        "    self.sequence = sequence\n",
        "    self.start_symbol = \"SOS\"\n",
        "    self.end_symbol = \"EOS\"\n",
        "    self.x = []\n",
        "    self.y = []\n",
        "    self.id2word = {i+2: w for (i, w) in enumerate(sequence)}\n",
        "    self.id2word[0] = self.start_symbol\n",
        "    self.id2word[1] = self.end_symbol\n",
        "    self.word2id = {w: i for (i, w) in self.id2word.items()}\n",
        "    seq2id = np.array([self.word2id[w] for w in sequence])\n",
        "    print(sequence)\n",
        "    place_holder = np.zeros(len(sequence) + 2, dtype=np.int)\n",
        "    place_holder[-1] = 1\n",
        "    for i in range(len(sequence)):\n",
        "      place_holder[1:-1] = np.roll(seq2id, i)\n",
        "      self.x.append(place_holder.copy())\n",
        "      place_holder[1:-1] = np.roll(seq2id, i+1)\n",
        "      self.y.append(place_holder.copy())\n",
        "      \n",
        "  def __len__(self):\n",
        "    return len(self.id2word) - 2\n",
        "\n",
        "  def onehot_seq(self, word_seq):\n",
        "    num_seq = [self.word2id[w] for w in word_seq]\n",
        "    return self.onehot_num(num_seq)\n",
        "  \n",
        "  def onehot_num(self, num_seq):\n",
        "    y = torch.LongTensor(num_seq).view(-1, 1)\n",
        "    onehot = torch.FloatTensor(len(num_seq), len(self.word2id))\n",
        "    onehot.zero_()\n",
        "    onehot.scatter_(1, y, 1)\n",
        "    return onehot\n",
        "  \n",
        "  def onecold_num(self, tensor):\n",
        "    dim_n = tensor.shape[0]\n",
        "    dim_c = tensor.shape[1]\n",
        "    onecold = tensor.argmax(dim=1)\n",
        "    return onecold\n",
        "\n",
        "  def onecold_seq(self, tensor):\n",
        "    onecold = self.onecold_num(tensor)\n",
        "    print(onecold)\n",
        "    return [self.id2word[i.item()] for i in onecold]\n",
        "\n",
        "  def __getitem__(self, index):\n",
        "    return  self.x[index], self.y[index]\n",
        "\n",
        "import string\n",
        "sequence = list(string.ascii_letters[:6])\n",
        "pseries = PeriodicSeriesDataset(sequence)\n",
        "for i in range(len(pseries)):\n",
        "  print(pseries[i])\n",
        "\n",
        "onehot = pseries.onehot_seq(['a', 'b', 'c'])\n",
        "print(onehot)\n",
        "onecold = pseries.onecold_seq(onehot)\n",
        "print(onecold)"
      ],
      "execution_count": 224,
      "outputs": [
        {
          "output_type": "stream",
          "text": [
            "['a', 'b', 'c', 'd', 'e', 'f']\n",
            "(array([0, 2, 3, 4, 5, 6, 7, 1]), array([0, 7, 2, 3, 4, 5, 6, 1]))\n",
            "(array([0, 7, 2, 3, 4, 5, 6, 1]), array([0, 6, 7, 2, 3, 4, 5, 1]))\n",
            "(array([0, 6, 7, 2, 3, 4, 5, 1]), array([0, 5, 6, 7, 2, 3, 4, 1]))\n",
            "(array([0, 5, 6, 7, 2, 3, 4, 1]), array([0, 4, 5, 6, 7, 2, 3, 1]))\n",
            "(array([0, 4, 5, 6, 7, 2, 3, 1]), array([0, 3, 4, 5, 6, 7, 2, 1]))\n",
            "(array([0, 3, 4, 5, 6, 7, 2, 1]), array([0, 2, 3, 4, 5, 6, 7, 1]))\n",
            "tensor([[0., 0., 1., 0., 0., 0., 0., 0.],\n",
            "        [0., 0., 0., 1., 0., 0., 0., 0.],\n",
            "        [0., 0., 0., 0., 1., 0., 0., 0.]])\n",
            "tensor([2, 3, 4])\n",
            "['a', 'b', 'c']\n"
          ],
          "name": "stdout"
        }
      ]
    },
    {
      "cell_type": "code",
      "metadata": {
        "id": "AWclGfe-E4qQ",
        "colab_type": "code",
        "colab": {
          "base_uri": "https://localhost:8080/",
          "height": 104
        },
        "outputId": "f14c9f59-59ed-45fc-b62e-3c397ef09233"
      },
      "source": [
        "batch_size = 5\n",
        "nb_digits = 10\n",
        "y = torch.LongTensor(batch_size,1).random_() % nb_digits\n",
        "y\n",
        "y_onehot = torch.FloatTensor(batch_size, nb_digits)\n",
        "y_onehot.zero_()\n",
        "y_onehot.scatter_(1, y, 1)"
      ],
      "execution_count": 208,
      "outputs": [
        {
          "output_type": "execute_result",
          "data": {
            "text/plain": [
              "tensor([[0., 0., 0., 0., 0., 0., 0., 0., 1., 0.],\n",
              "        [0., 0., 0., 0., 0., 0., 0., 1., 0., 0.],\n",
              "        [0., 0., 0., 0., 0., 1., 0., 0., 0., 0.],\n",
              "        [0., 0., 0., 0., 0., 0., 0., 1., 0., 0.],\n",
              "        [0., 0., 1., 0., 0., 0., 0., 0., 0., 0.]])"
            ]
          },
          "metadata": {
            "tags": []
          },
          "execution_count": 208
        }
      ]
    },
    {
      "cell_type": "code",
      "metadata": {
        "id": "c8XAH9fUGPQl",
        "colab_type": "code",
        "colab": {}
      },
      "source": [
        "?y_onehot.scatter_"
      ],
      "execution_count": 0,
      "outputs": []
    },
    {
      "cell_type": "code",
      "metadata": {
        "id": "hq-knOM4rWPe",
        "colab_type": "code",
        "colab": {
          "base_uri": "https://localhost:8080/",
          "height": 34
        },
        "outputId": "6f64d3bf-d99f-46bf-aabf-955acc9dfbbc"
      },
      "source": [
        "device = torch.device(\"cuda\" if torch.cuda.is_available() else \"cpu\")"
      ],
      "execution_count": 4,
      "outputs": [
        {
          "output_type": "execute_result",
          "data": {
            "text/plain": [
              "device(type='cpu')"
            ]
          },
          "metadata": {
            "tags": []
          },
          "execution_count": 4
        }
      ]
    },
    {
      "cell_type": "code",
      "metadata": {
        "id": "jU7xzLWwqq9W",
        "colab_type": "code",
        "colab": {}
      },
      "source": [
        "import torch\n",
        "from torch import nn\n",
        "\n",
        "from torch.utils.data import DataLoader\n",
        "\n",
        "\n",
        "class DecoderRNN(nn.Module):\n",
        "  def __init__(self, hidden_size, output_size):\n",
        "    super().__init__()\n",
        "    self.hidden_size = hidden_size\n",
        "\n",
        "    self.embedding = nn.Embedding(output_size, hidden_size)\n",
        "    self.lstm = nn.LSTM(hidden_size, hidden_size, batch_first=True)\n",
        "    self.out = nn.Linear(hidden_size, output_size)\n",
        "\n",
        "  def forward(self, input, hc):\n",
        "    output = self.embedding(input)\n",
        "    output = torch.relu(output)\n",
        "    output, (hidden, cell) = self.lstm(output, hc)\n",
        "    #print(output.shape)\n",
        "    output = self.out(output)\n",
        "    return output, (hidden, cell)\n",
        "\n",
        "  def init_hidden(self, batch_size):\n",
        "    return (torch.zeros(1, batch_size, self.hidden_size, device=device), \n",
        "            torch.zeros(1, batch_size, self.hidden_size, device=device))\n",
        "\n",
        "\n",
        "class EncoderRNN(nn.Module):\n",
        "  def __init__(self, input_size, hidden_size):\n",
        "    super().__init__()\n",
        "    self.hidden_size = hidden_size\n",
        "\n",
        "    self.embedding = nn.Embedding(input_size, hidden_size)\n",
        "    self.lstm = nn.LSTM(hidden_size, hidden_size, batch_first=True)\n",
        "\n",
        "  def forward(self, input, hc):\n",
        "    embedded = self.embedding(input)\n",
        "    output = embedded\n",
        "    output, (hidden, cell) = self.lstm(output, hc)\n",
        "    return output, hidden\n",
        "\n",
        "  def init_hidden(self, batch_size):\n",
        "    return (torch.zeros(1, batch_size, self.hidden_size, device=device),\n",
        "            torch.zeros(1, batch_size, self.hidden_size, device=device))\n",
        "\n",
        "class Seq2Seq(nn.Module):\n",
        "  def __init__(self, input_size, hidden_size):\n",
        "    super().__init__()\n",
        "    self.encoder = EncoderRNN(input_size, hidden_size)\n",
        "    self.decoder = DecoderRNN(hidden_size, input_size)\n",
        "  \n",
        "  def forward(self, input, expected = None):\n",
        "    batch_size = input.shape[0]\n",
        "    h0, c0 = self.encoder.init_hidden(batch_size)\n",
        "    encode_output, encode_hidden = self.encoder(input, (h0, c0))\n",
        "\n",
        "    inp = torch.zeros(batch_size, dtype=torch.long)\n",
        "    inp = inp.view(batch_size, 1)\n",
        "    h = encode_hidden\n",
        "    _, c = self.decoder.init_hidden(batch_size)\n",
        "\n",
        "    #print(inp.shape)\n",
        "    output_list = []\n",
        "    while True:\n",
        "      if expected == None:\n",
        "        out, (h, c) = self.decoder(inp, (h, c))\n",
        "      # teacher forcing\n",
        "      else:\n",
        "        pass\n",
        "      output_list.append(out.squeeze(1))\n",
        "      if len(output_list) == input.shape[1] - 1:\n",
        "        break\n",
        "    # print(output_list[0].shape)\n",
        "    return torch.stack(output_list, 2)\n",
        "\n",
        "loader = DataLoader(pseries, 4)\n",
        "\n",
        "model = Seq2Seq(len(pseries.word2id), 20)\n",
        "\n",
        "criterion = torch.nn.functional.cross_entropy\n",
        "optimizer = torch.optim.RMSprop(model.parameters())\n",
        "for epoch in range(100):\n",
        "  sum_criterion = 0\n",
        "  n_instance = 0\n",
        "  for x, y in loader:\n",
        "    n_instance += x.shape[0]\n",
        "    optimizer.zero_grad()\n",
        "    res = model(x)\n",
        "    loss = criterion(res, y[:, 1:])\n",
        "    loss.backward()\n",
        "    sum_criterion += loss.item()\n",
        "    \n",
        "    optimizer.step()\n",
        "\n",
        "  print(f'{epoch}: {sum_criterion/n_instance}')\n",
        "  #print(res.shape)\n",
        "\n"
      ],
      "execution_count": 0,
      "outputs": []
    },
    {
      "cell_type": "code",
      "metadata": {
        "id": "L9BjQYY2dOxq",
        "colab_type": "code",
        "colab": {
          "base_uri": "https://localhost:8080/",
          "height": 52
        },
        "outputId": "d4eb5389-5601-4f40-ce44-4d68c40b1fd1"
      },
      "source": [
        "res.argmax(dim=1)"
      ],
      "execution_count": 233,
      "outputs": [
        {
          "output_type": "execute_result",
          "data": {
            "text/plain": [
              "tensor([[3, 4, 5, 6, 7, 2, 1],\n",
              "        [2, 3, 4, 5, 6, 7, 1]])"
            ]
          },
          "metadata": {
            "tags": []
          },
          "execution_count": 233
        }
      ]
    },
    {
      "cell_type": "code",
      "metadata": {
        "id": "bhxDoDu1dbGf",
        "colab_type": "code",
        "colab": {
          "base_uri": "https://localhost:8080/",
          "height": 52
        },
        "outputId": "21dd8917-90f5-48da-9856-81f04e78731f"
      },
      "source": [
        "y"
      ],
      "execution_count": 234,
      "outputs": [
        {
          "output_type": "execute_result",
          "data": {
            "text/plain": [
              "tensor([[0, 3, 4, 5, 6, 7, 2, 1],\n",
              "        [0, 2, 3, 4, 5, 6, 7, 1]])"
            ]
          },
          "metadata": {
            "tags": []
          },
          "execution_count": 234
        }
      ]
    },
    {
      "cell_type": "code",
      "metadata": {
        "id": "vUqDzcBJMkfZ",
        "colab_type": "code",
        "colab": {
          "base_uri": "https://localhost:8080/",
          "height": 52
        },
        "outputId": "86bf7601-bdda-4b7f-858f-99e30b8a10fe"
      },
      "source": [
        "model(\n",
        "    torch.LongTensor(\n",
        "    [[0, 2, 3, 4, 5, 6, 7, 1],\n",
        "     [0, 4, 5, 6, 7, 2, 3, 1]\n",
        "     ])\n",
        ").argmax(dim=1)"
      ],
      "execution_count": 237,
      "outputs": [
        {
          "output_type": "execute_result",
          "data": {
            "text/plain": [
              "tensor([[7, 2, 3, 4, 5, 6, 1],\n",
              "        [3, 4, 5, 6, 7, 2, 1]])"
            ]
          },
          "metadata": {
            "tags": []
          },
          "execution_count": 237
        }
      ]
    },
    {
      "cell_type": "code",
      "metadata": {
        "id": "zhQsevTDMy8C",
        "colab_type": "code",
        "colab": {
          "base_uri": "https://localhost:8080/",
          "height": 52
        },
        "outputId": "9c2320f3-e669-4ee5-aad7-5cece40a9e97"
      },
      "source": [
        "model(\n",
        "    torch.LongTensor(\n",
        "    [[0, 2, 3, 4, 5, 6, 1],\n",
        "     [0, 4, 5, 6, 7, 2, 1]\n",
        "     ])\n",
        ").argmax(dim=1)"
      ],
      "execution_count": 238,
      "outputs": [
        {
          "output_type": "execute_result",
          "data": {
            "text/plain": [
              "tensor([[6, 7, 2, 3, 4, 5],\n",
              "        [2, 3, 4, 5, 6, 7]])"
            ]
          },
          "metadata": {
            "tags": []
          },
          "execution_count": 238
        }
      ]
    },
    {
      "cell_type": "code",
      "metadata": {
        "id": "Wcs7mqlYliy3",
        "colab_type": "code",
        "colab": {
          "base_uri": "https://localhost:8080/",
          "height": 34
        },
        "outputId": "5b2efce0-c8d3-4399-9ae2-eb4043225820"
      },
      "source": [
        "criterion(res, y[:, 1:])"
      ],
      "execution_count": 172,
      "outputs": [
        {
          "output_type": "execute_result",
          "data": {
            "text/plain": [
              "tensor(0.0118, grad_fn=<NllLoss2DBackward>)"
            ]
          },
          "metadata": {
            "tags": []
          },
          "execution_count": 172
        }
      ]
    },
    {
      "cell_type": "code",
      "metadata": {
        "id": "44c0tMmZ_bf3",
        "colab_type": "code",
        "colab": {
          "base_uri": "https://localhost:8080/",
          "height": 34
        },
        "outputId": "7c4c4e16-d1ae-42d6-d3f5-6daf26225f61"
      },
      "source": [
        "y[:, 1:].shape"
      ],
      "execution_count": 188,
      "outputs": [
        {
          "output_type": "execute_result",
          "data": {
            "text/plain": [
              "torch.Size([2, 7])"
            ]
          },
          "metadata": {
            "tags": []
          },
          "execution_count": 188
        }
      ]
    },
    {
      "cell_type": "code",
      "metadata": {
        "id": "2uFMpTxe_46M",
        "colab_type": "code",
        "colab": {
          "base_uri": "https://localhost:8080/",
          "height": 34
        },
        "outputId": "241b2879-c145-43ff-e9a5-9d5e52f62233"
      },
      "source": [
        "res.shape"
      ],
      "execution_count": 189,
      "outputs": [
        {
          "output_type": "execute_result",
          "data": {
            "text/plain": [
              "torch.Size([2, 8, 7])"
            ]
          },
          "metadata": {
            "tags": []
          },
          "execution_count": 189
        }
      ]
    },
    {
      "cell_type": "code",
      "metadata": {
        "id": "QpobzVRI_NZJ",
        "colab_type": "code",
        "colab": {
          "base_uri": "https://localhost:8080/",
          "height": 34
        },
        "outputId": "ef4c5b02-6dc3-4f68-f717-db7039d088c5"
      },
      "source": [
        "criterion(torch.rand((1, 8, 7)), y[1:, 1:])"
      ],
      "execution_count": 202,
      "outputs": [
        {
          "output_type": "execute_result",
          "data": {
            "text/plain": [
              "tensor(2.1528)"
            ]
          },
          "metadata": {
            "tags": []
          },
          "execution_count": 202
        }
      ]
    },
    {
      "cell_type": "code",
      "metadata": {
        "id": "Mb-jhDJ-0Cpy",
        "colab_type": "code",
        "colab": {
          "base_uri": "https://localhost:8080/",
          "height": 34
        },
        "outputId": "8bd43a00-68b5-4b52-d8ba-45f39c0bd36e"
      },
      "source": [
        "len(pseries)"
      ],
      "execution_count": 204,
      "outputs": [
        {
          "output_type": "execute_result",
          "data": {
            "text/plain": [
              "6"
            ]
          },
          "metadata": {
            "tags": []
          },
          "execution_count": 204
        }
      ]
    },
    {
      "cell_type": "code",
      "metadata": {
        "id": "JxBs9aSd83Dl",
        "colab_type": "code",
        "colab": {
          "base_uri": "https://localhost:8080/",
          "height": 34
        },
        "outputId": "1796e91a-b2a1-41d1-fef7-ff59ef8e2e84"
      },
      "source": [
        "input = torch.randn(4, 8, requires_grad=True)\n",
        "target = torch.randint(8, (4,), dtype=torch.int64)\n",
        "\n",
        "torch.nn.functional.cross_entropy(input, target)"
      ],
      "execution_count": 179,
      "outputs": [
        {
          "output_type": "execute_result",
          "data": {
            "text/plain": [
              "tensor(2.0650, grad_fn=<NllLossBackward>)"
            ]
          },
          "metadata": {
            "tags": []
          },
          "execution_count": 179
        }
      ]
    }
  ]
}